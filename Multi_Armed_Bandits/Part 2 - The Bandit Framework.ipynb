{
 "cells": [
  {
   "cell_type": "markdown",
   "metadata": {},
   "source": [
    "## A Baby Robot's Guide To Reinforcement Learning\n",
    "# Multi-Armed Bandits: Part 2\n",
    "### The Bandit Framework"
   ]
  },
  {
   "cell_type": "markdown",
   "metadata": {},
   "source": [
    "![Photo by Jonathan Borba on Unsplash](https://cdn-images-1.medium.com/max/800/0*8NBuh8tw_mFv5DlJ)\n",
    "\n",
    "Photo by __[Jonathan Borba](https://unsplash.com/@jonathanborba?utm_source=medium&utm_medium=referral)__ on __[Unsplash](https://unsplash.com?utm_source=medium&utm_medium=referral)__"
   ]
  },
  {
   "cell_type": "markdown",
   "metadata": {},
   "source": [
    "![](Images/green_babyrobot_small.gif)\n",
    "---\n",
    "\n",
    "# Overview\n",
    "\n",
    "<i>Baby Robot is lost in the mall. Using Reinforcement Learning we want to help him find his way back to his mum. However, before he can even begin looking for her, he needs to recharge, from a set of power sockets that each give a slightly different amount of charge. \n",
    "\n",
    "Using the strategies from the multi-armed bandit problem we need to find the best socket, in the shortest amount of time, to allow Baby Robot to get charged up and on his way.</i>\n",
    "\n",
    "\n",
    "This is the second, in a six part series, on Multi-Armed Bandits. In Part 1 we covered all the basic terminology and mathematics required to describe the bandit problem.\n",
    "\n",
    "In this part we'll take a look at the problem we'll be solving in the forthcoming articles, describing exactly how the power socket problem will be setup. This covers all the code that is used to create the basic socket simulator and the test framework used to evaluate these sockets.\n",
    "\n",
    "So, although we'll not yet make it onto the Bandit algorithms themselves, we'll do all the required groundwork, to allow us to start examining the various Bandit strategies in subsequent parts.\n",
    "\n",
    "---"
   ]
  },
  {
   "cell_type": "markdown",
   "metadata": {},
   "source": [
    "![](Images/big_baby_robot.gif)"
   ]
  },
  {
   "cell_type": "markdown",
   "metadata": {},
   "source": [
    "# Testing Selection Strategies\n",
    "\n",
    "Now we have all the required notation and terminology in place, we can build a test system. This will let us examine how different strategies perform at finding and exploiting the best power socket."
   ]
  },
  {
   "cell_type": "markdown",
   "metadata": {},
   "source": [
    "![](Images/power_sockets.png)"
   ]
  },
  {
   "cell_type": "markdown",
   "metadata": {},
   "source": [
    "As a reminder, Baby Robot has entered a charging room containing 5 different power sockets. Each of these sockets returns a slightly different amount of charge. We want to get Baby Robot charged up in the minimum amount of time, so we need to locate the best socket and then use it until charging is complete.\n",
    "\n",
    "This is identical to the Multi-Armed Bandit problem except that, instead of looking for a slot machine that gives the best payout, we're looking for a power socket that gives the most charge.\n",
    "\n",
    "---"
   ]
  },
  {
   "cell_type": "markdown",
   "metadata": {},
   "source": [
    "# Implementing the Power Socket\n",
    "\n",
    "We're going to be testing several different strategies for locating the best power socket and, as part of this, we'll need to create several different types of socket. However, all sockets have the same basic functionality and need to be able to perform the following operations:\n",
    "\n",
    "- <b>Supply some charge</b>. Where the amount of charge returned is dependent on the true reward value for the socket.\n",
    "\n",
    "\n",
    "- <b>Update the estimate of the socket's reward value</b>. Mainly this will be done by calculating the sample average, as described in Part 1. Each socket will keep track of its own estimate and the number of times it has been tried. It will also store its true reward value, but this is only for implementation purposes. Since this is the value we're trying to estimate, after the socket has been initialised, we'll pretend we don't actually know this value.\n",
    "\n",
    "\n",
    "- <b>Return the metric</b>. This is used to evaluate and choose between sockets. By default this is just the current estimate of the socket's reward value.\n",
    "\n",
    "A python implementation of a basic power socket is shown below. This acts as the base class from which all the other, more specialised, sockets will be derived."
   ]
  },
  {
   "cell_type": "code",
   "execution_count": 2,
   "metadata": {},
   "outputs": [],
   "source": [
    "class PowerSocket:\n",
    "    \"\"\" the base power socket class \"\"\"\n",
    "    \n",
    "    def __init__(self, q):                \n",
    "        self.q = q        # the true reward value              \n",
    "        self.initialize() # reset the socket\n",
    "        \n",
    "    def initialize(self):\n",
    "        self.Q = 0   # the estimate of this socket's reward value                \n",
    "        self.n = 0   # the number of times this socket has been tried        \n",
    "    \n",
    "    def charge(self):\n",
    "        \"\"\" return a random amount of charge \"\"\"\n",
    "        \n",
    "        # the reward is a guassian distribution with unit variance around the true\n",
    "        # value 'q'\n",
    "        value = np.random.randn() + self.q        \n",
    "        \n",
    "        # never allow a charge less than 0 to be returned        \n",
    "        return 0 if value < 0 else value\n",
    "                    \n",
    "    def update(self,R):\n",
    "        \"\"\" update this socket after it has returned reward value 'R' \"\"\"     \n",
    "    \n",
    "        # increment the number of times this socket has been tried\n",
    "        self.n += 1\n",
    "\n",
    "        # the new estimate of the mean is calculated from the old estimate\n",
    "        self.Q = (1 - 1.0/self.n) * self.Q + (1.0/self.n) * R\n",
    "    \n",
    "    def sample(self):\n",
    "        \"\"\" return an estimate of the socket's reward value \"\"\"\n",
    "        return self.Q"
   ]
  },
  {
   "cell_type": "markdown",
   "metadata": {},
   "source": [
    "The basic power socket keeps track of the following values, which match with the equations we've seen so far:\n",
    "\n",
    "- q = the true mean value of the socket output\n",
    "- Q = the running estimate of the socket output (i.e. its reward)\n",
    "- n = the number of times the socket has been tried\n",
    "\n",
    "'Q' and 'n' are initialised in a separate 'initialize' function to allow the socket to be reset, without having to create a whole new socket.\n",
    "\n",
    "When estimating the socket output, the true output 'q' is the value that we're trying to converge upon. Although 'q' is required to setup the socket, its value isn't used elsewhere, since this is the value we're trying to find.\n",
    "\n",
    "The 'charge' function returns the output reward for the socket. This is given by a normal (Gaussian) distribution, with a mean value of 'q' (the value provided during setup).\n",
    "\n",
    "The 'update' function calculates the sample average estimate, using the new reward value and the previous estimate, as described in Formula 1 from Part 1. \n",
    "\n",
    "In code this translates directly to be:"
   ]
  },
  {
   "cell_type": "markdown",
   "metadata": {},
   "source": [
    "![](Images/update_formula_code.png)"
   ]
  },
  {
   "cell_type": "markdown",
   "metadata": {},
   "source": [
    "And finally the 'sample' function returns the metric that will be used to select the next socket. In this case its just the value 'Q', the estimate of the current reward."
   ]
  },
  {
   "cell_type": "markdown",
   "metadata": {},
   "source": [
    "---\n",
    "\n",
    "# Implementing the Charging Room\n",
    "\n",
    "We want to setup a room that has 5 sockets, each of which will return a burst of power with a mean duration that is different to the other sockets.\n",
    "\n",
    "To keep things simple we're just going to use a fixed order for the power output from each of the sockets. So, in the code below, the 'socket_order' parameter defines that socket 2 will be the worst and socket 4 will be the best and this will remain fixed throughout our experiments.\n",
    "\n",
    "The mean amount of charge returned by each socket is calculated by multiplying its socket order value by 2 and then adding 2 to offset this value and keep it above zero. So, in order, the sockets have the following mean rewards: 6, 4, 8, 12, 10."
   ]
  },
  {
   "cell_type": "code",
   "execution_count": 4,
   "metadata": {},
   "outputs": [],
   "source": [
    "import random\n",
    "import numpy as np\n",
    "import pandas as pd\n",
    "import scipy.stats as stats\n",
    "import seaborn as sns\n",
    "import matplotlib\n",
    "import matplotlib.pyplot as plt\n",
    "from tqdm import tqdm\n",
    "from IPython.core.pylabtools import figsize"
   ]
  },
  {
   "cell_type": "code",
   "execution_count": 5,
   "metadata": {},
   "outputs": [],
   "source": [
    "# create 5 sockets in a fixed order\n",
    "socket_order = [2,1,3,5,4]\n",
    "\n",
    "# create the sockets\n",
    "# - the mean value of each socket is derived from the socket order index, which is doubled to give \n",
    "#   distinct values and offset by 2 to keep the distribution above zero\n",
    "sockets = [PowerSocket((q*2)+2) for q in socket_order]\n",
    "\n",
    "# save the number of sockets\n",
    "NUM_SOCKETS = len(socket_order)"
   ]
  },
  {
   "cell_type": "code",
   "execution_count": 6,
   "metadata": {},
   "outputs": [],
   "source": [
    "# using a very large number of time steps just to create sufficient data to get smooth plots of socket output\n",
    "TOTAL_STEPS = 100000\n",
    "\n",
    "# rewards will contain the charge returned at all of the time steps for each socket \n",
    "rewards = np.zeros(shape=(TOTAL_STEPS,NUM_SOCKETS))\n",
    "\n",
    "# iterate through each of the sockets\n",
    "for socket_number,socket in enumerate(sockets):\n",
    "    \n",
    "    # get charge from the socket for the defined number of steps   \n",
    "    for t in range(TOTAL_STEPS): rewards[t,socket_number] = socket.charge()"
   ]
  },
  {
   "cell_type": "markdown",
   "metadata": {},
   "source": [
    "With the sockets set up in this way we get the following output from each of the sockets:"
   ]
  },
  {
   "cell_type": "code",
   "execution_count": 7,
   "metadata": {},
   "outputs": [
    {
     "data": {
      "image/png": "[encoded data removed]",
      "text/plain": [
       "<Figure size 432x288 with 1 Axes>"
      ]
     },
     "metadata": {
      "needs_background": "light"
     },
     "output_type": "display_data"
    }
   ],
   "source": [
    "# plot the charge we got from the sockets           \n",
    "plt.violinplot(rewards)   \n",
    "plt.xlabel('Socket')\n",
    "plt.ylabel('Reward Distribution (seconds of charge)') \n",
    "plt.title('Violin plot of the reward distribution for each socket')\n",
    "plt.show()"
   ]
  },
  {
   "cell_type": "markdown",
   "metadata": {},
   "source": [
    "In the \"violin\" plot above, the line for each socket shows the range of values returned as the reward for each socket. So socket number 1 returned between approximately 2 and 10 seconds of charge. The shaded area, underneath the line, represents the frequency at which each reward was returned. For socket 1 the most frequently returned reward was 6 seconds of charge. This is the mean reward for this socket and also its true reward value."
   ]
  },
  {
   "cell_type": "code",
   "execution_count": 8,
   "metadata": {},
   "outputs": [
    {
     "data": {
      "text/plain": [
       "Text(0, 0.5, 'Density')"
      ]
     },
     "execution_count": 8,
     "metadata": {},
     "output_type": "execute_result"
    },
    {
     "data": {
      "image/png": "[encoded data removed]",
      "text/plain": [
       "<Figure size 432x288 with 1 Axes>"
      ]
     },
     "metadata": {
      "needs_background": "light"
     },
     "output_type": "display_data"
    }
   ],
   "source": [
    "# iterate through the sockets to draw each plot\n",
    "# (from: https://towardsdatascience.com/histograms-and-density-plots-in-python-f6bda88f5ac0)\n",
    "for socket_number in range(NUM_SOCKETS):\n",
    "    sns.distplot(pd.DataFrame(rewards[:,socket_number]), hist = False, kde = True,\n",
    "                 kde_kws = {'shade': True, 'linewidth': 2},\n",
    "                 label = f'{socket_number+1}');\n",
    "    \n",
    "# Plot formatting\n",
    "plt.xlim(0, None)\n",
    "plt.legend(title = 'Sockets')\n",
    "plt.title('Density Plot of Socket Outputs')\n",
    "plt.xlabel('Socket Output (seconds of charge)')\n",
    "plt.ylabel('Density')"
   ]
  },
  {
   "cell_type": "markdown",
   "metadata": {},
   "source": [
    "In the density plot we can see how the reward probability varies for each socket. Socket number 4 is the best, giving an average of 12 seconds worth of charge, whereas socket 2 is the worst, giving only 4 seconds worth. Socket 4 is the optimal socket that we're trying to find and exploit."
   ]
  },
  {
   "cell_type": "markdown",
   "metadata": {},
   "source": [
    "---\n",
    "\n",
    "# The Socket Tester\n",
    "\n",
    "We're also going to need a way to sample and select from the set of sockets at each time step. This is handled by the SocketTester class, as shown below:"
   ]
  },
  {
   "cell_type": "code",
   "execution_count": 9,
   "metadata": {},
   "outputs": [],
   "source": [
    "class SocketTester():\n",
    "    \"\"\" create and test a set of sockets over a single test run \"\"\"\n",
    "\n",
    "    def __init__(self, socket=PowerSocket, socket_order=socket_order, multiplier=2, **kwargs ):  \n",
    "        \n",
    "        # create supplied socket type with a mean value defined by socket order \n",
    "        self.sockets = [socket((q*multiplier)+2, **kwargs) for q in socket_order]        \n",
    "                                                 \n",
    "    def charge_and_update(self,socket_index):\n",
    "        \"\"\" charge from & update the specified socket and associated parameters \"\"\"\n",
    "        \n",
    "        # charge from the chosen socket and update its mean reward value\n",
    "        reward = self.sockets[socket_index].charge()\n",
    "        self.sockets[socket_index].update(reward)                        \n",
    "\n",
    "    def select_socket( self, t ):\n",
    "        \"\"\" choose the socket with the current highest mean reward or arbitrarily\n",
    "            select a socket in the case of a tie \"\"\"\n",
    "        socket_index = random_argmax([socket.sample(t+1) for socket in self.sockets]) \n",
    "        return socket_index     \n",
    "    \n",
    "    \n",
    "    def run( self, number_of_steps, maximum_total_reward = float('inf')):  \n",
    "        \"\"\" perform a single run for the defined number of steps \"\"\"       \n",
    "\n",
    "        for t in range(number_of_steps):                    \n",
    "            # select a socket\n",
    "            socket_index = self.select_socket(t)\n",
    "            \n",
    "            # charge from the chosen socket and update its mean reward value\n",
    "            self.charge_and_update(socket_index)"
   ]
  },
  {
   "cell_type": "markdown",
   "metadata": {},
   "source": [
    "The <i>SocketTester</i> class creates a set of power sockets, with the supplied socket order, as defined previously. When it's run, the socket tester loops for a specified number of time steps and, at each time step, performs the following operations:\n",
    "\n",
    "<b><i>Select a socket</i>:</b> \n",
    "\n",
    "This is done by calling the '<i>sample</i>' function for each socket and then choosing the socket with the largest returned value. As described previously, by default the returned sample value will just be a socket's current estimate of its mean reward.\n",
    "\n",
    "When there is more than one socket with the highest sample value, the '<i>random_argmax</i>' function (shown below) arbitrarily selects one of the sockets with the largest value. This is used in preference to Numpy's <i>argmax</i> function which simply chooses the first item when a tie occurs."
   ]
  },
  {
   "cell_type": "code",
   "execution_count": 10,
   "metadata": {},
   "outputs": [],
   "source": [
    "# return the index of the largest value in the supplied list\n",
    "# - arbitrarily select between the largest values in the case of a tie\n",
    "# (the standard np.argmax just chooses the first value in the case of a tie)\n",
    "def random_argmax(value_list):\n",
    "  \"\"\" a random tie-breaking argmax\"\"\"\n",
    "  values = np.asarray(value_list)\n",
    "  return np.argmax(np.random.random(values.shape) * (values==values.max()))"
   ]
  },
  {
   "cell_type": "markdown",
   "metadata": {},
   "source": [
    "<b><i>Charge and Update</i>:</b>\n",
    "\n",
    "Once a socket has been chosen we charge from that socket to get a reward. We then update that socket, incrementing its count of the number of times its been tried and improving its reward estimate using the new reward value."
   ]
  },
  {
   "cell_type": "markdown",
   "metadata": {},
   "source": [
    "\n",
    "\n",
    "Note that the code shown above for the 'SocketTester' class is a cut-down version of the actual class and only shows the main functionality. In the full version of the class the properties of the sockets are tracked during the course of the run. Additionally, this class only performs a single run. Since we're dealing with random variables one run may not be sufficient to determine the true behaviour of a socket selection strategy. Therefore a second class, 'SocketExperiment', is used to setup and run repeated socket tests and generate the average results obtained across these tests. The full code for both of these classes can be found in the Github repository."
   ]
  },
  {
   "cell_type": "markdown",
   "metadata": {},
   "source": [
    "![](Images/green_babyrobot_small.gif)"
   ]
  },
  {
   "cell_type": "markdown",
   "metadata": {},
   "source": [
    "---\n",
    "# Summary\n",
    "\n",
    "This part of our look at Multi-Armed Bandits didn't really look at them at all! However, it did cover all of the basic framework that we'll need to create and evaluate the Multi-Armed Bandit strategies in the subsequent articles.\n",
    "\n",
    "In the future articles we'll take the theory we learnt in part 1, and combine it with this test framework, to start examining how the various Bandit strategies can be applied to explore and exploit the set of power sockets."
   ]
  },
  {
   "cell_type": "code",
   "execution_count": null,
   "metadata": {},
   "outputs": [],
   "source": []
  }
 ],
 "metadata": {
  "kernelspec": {
   "display_name": "Python 3",
   "language": "python",
   "name": "python3"
  },
  "language_info": {
   "codemirror_mode": {
    "name": "ipython",
    "version": 3
   },
   "file_extension": ".py",
   "mimetype": "text/x-python",
   "name": "python",
   "nbconvert_exporter": "python",
   "pygments_lexer": "ipython3",
   "version": "3.7.1"
  }
 },
 "nbformat": 4,
 "nbformat_minor": 2
}
