{
 "cells": [
  {
   "cell_type": "code",
   "execution_count": 1,
   "metadata": {},
   "outputs": [],
   "source": [
    "from tkinter import *\n",
    "import time\n",
    "\n",
    "WIDTH = 800\n",
    "HEIGHT = 500\n",
    "SIZE = 50\n",
    "tk = Tk()\n",
    "canvas = Canvas(tk, width=WIDTH, height=HEIGHT, bg=\"blue\")\n",
    "canvas.pack()\n",
    "color = 'black'\n",
    "\n",
    "class Ball:\n",
    "    def __init__(self, tag):\n",
    "        self.shape = canvas.create_oval(0, 0, SIZE, SIZE, fill=color, tags=tag)\n",
    "        self.speedx = 9 # changed from 3 to 9\n",
    "        self.speedy = 9 # changed from 3 to 9\n",
    "        self.active = True\n",
    "\n",
    "    def ball_update(self):\n",
    "        canvas.move(self.shape, self.speedx, self.speedy)\n",
    "        pos = canvas.coords(self.shape)\n",
    "        if pos[2] >= WIDTH or pos[0] <= 0:\n",
    "            self.speedx *= -1\n",
    "        if pos[3] >= HEIGHT or pos[1] <= 0:\n",
    "            self.speedy *= -1\n",
    "\n",
    "global switcher\n",
    "switcher = True\n",
    "def cycle():\n",
    "    global switcher\n",
    "    canvas.tag_raise(\"bg\")\n",
    "    if switcher:\n",
    "        ball2.ball_update()\n",
    "        ball2.ball_update()\n",
    "        canvas.tag_raise(\"ball\")\n",
    "    else:\n",
    "        ball.ball_update()\n",
    "        ball.ball_update()\n",
    "        canvas.tag_raise(\"ball2\")\n",
    "    tk.update_idletasks()\n",
    "    switcher = not switcher\n",
    "    tk.after(40, cycle)\n",
    "\n",
    "bg = canvas.create_rectangle(0, 0, WIDTH+1, HEIGHT+1, fill=\"gray\", tags=\"bg\")\n",
    "ball = Ball(\"ball\")\n",
    "ball.ball_update()\n",
    "ball2 = Ball(\"ball2\")\n",
    "\n",
    "tk.after(0, cycle)\n",
    "tk.mainloop()"
   ]
  },
  {
   "cell_type": "code",
   "execution_count": null,
   "metadata": {},
   "outputs": [],
   "source": []
  }
 ],
 "metadata": {
  "kernelspec": {
   "display_name": "Python 3",
   "language": "python",
   "name": "python3"
  },
  "language_info": {
   "codemirror_mode": {
    "name": "ipython",
    "version": 3
   },
   "file_extension": ".py",
   "mimetype": "text/x-python",
   "name": "python",
   "nbconvert_exporter": "python",
   "pygments_lexer": "ipython3",
   "version": "3.7.1"
  }
 },
 "nbformat": 4,
 "nbformat_minor": 2
}
