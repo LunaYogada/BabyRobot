{
 "cells": [
  {
   "cell_type": "markdown",
   "metadata": {},
   "source": [
    "from:\n",
    "https://github.com/martinRenou/ipycanvas"
   ]
  },
  {
   "cell_type": "code",
   "execution_count": 1,
   "metadata": {},
   "outputs": [],
   "source": [
    "!pip install -U ipycanvas -q"
   ]
  },
  {
   "cell_type": "code",
   "execution_count": 2,
   "metadata": {},
   "outputs": [],
   "source": [
    "import numpy as np\n",
    "\n",
    "from ipycanvas import MultiCanvas\n",
    "from ipywidgets import Image\n",
    "from ipywidgets import Layout\n",
    "from time import sleep, time\n",
    "from ipycanvas import Canvas, hold_canvas\n",
    "import random\n",
    "\n",
    "from ipywidgets import Play, IntProgress, HBox, VBox, link\n",
    "from ipycanvas import Canvas, hold_canvas"
   ]
  },
  {
   "cell_type": "code",
   "execution_count": 3,
   "metadata": {},
   "outputs": [],
   "source": [
    "# df_maze.py\n",
    "import random\n",
    "\n",
    "\n",
    "# Create a maze using the depth-first algorithm described at\n",
    "# https://scipython.com/blog/making-a-maze/\n",
    "# Christian Hill, April 2017.\n",
    "\n",
    "class Cell:\n",
    "    \"\"\"A cell in the maze.\n",
    "    A maze \"Cell\" is a point in the grid which may be surrounded by walls to\n",
    "    the north, east, south or west.\n",
    "    \"\"\"\n",
    "\n",
    "    # A wall separates a pair of cells in the N-S or W-E directions.\n",
    "    wall_pairs = {'N': 'S', 'S': 'N', 'E': 'W', 'W': 'E'}\n",
    "\n",
    "    def __init__(self, x, y):\n",
    "        \"\"\"Initialize the cell at (x,y). At first it is surrounded by walls.\"\"\"\n",
    "\n",
    "        self.x, self.y = x, y\n",
    "        self.walls = {'N': True, 'S': True, 'E': True, 'W': True}\n",
    "\n",
    "    def has_all_walls(self):\n",
    "        \"\"\"Does this cell still have all its walls?\"\"\"\n",
    "\n",
    "        return all(self.walls.values())\n",
    "\n",
    "    def knock_down_wall(self, other, wall):\n",
    "        \"\"\"Knock down the wall between cells self and other.\"\"\"\n",
    "\n",
    "        self.walls[wall] = False\n",
    "        other.walls[Cell.wall_pairs[wall]] = False\n",
    "\n",
    "\n",
    "class Maze:\n",
    "    \"\"\"A Maze, represented as a grid of cells.\"\"\"\n",
    "\n",
    "    def __init__(self, nx, ny, ix=0, iy=0):\n",
    "        \"\"\"Initialize the maze grid.\n",
    "        The maze consists of nx x ny cells and will be constructed starting\n",
    "        at the cell indexed at (ix, iy).\n",
    "        \"\"\"\n",
    "\n",
    "        self.nx, self.ny = nx, ny\n",
    "        self.ix, self.iy = ix, iy\n",
    "        self.maze_map = [[Cell(x, y) for y in range(ny)] for x in range(nx)]\n",
    "\n",
    "    def cell_at(self, x, y):\n",
    "        \"\"\"Return the Cell object at (x,y).\"\"\"\n",
    "        return self.maze_map[x][y]\n",
    "    \n",
    "    def dimensions(self):\n",
    "        return self.nx, self.ny\n",
    "\n",
    "    def __str__(self):\n",
    "        \"\"\"Return a (crude) string representation of the maze.\"\"\"\n",
    "\n",
    "        maze_rows = ['-' * self.nx * 2]\n",
    "        for y in range(self.ny):\n",
    "            maze_row = ['|']\n",
    "            for x in range(self.nx):\n",
    "                if self.maze_map[x][y].walls['E']:\n",
    "                    maze_row.append(' |')\n",
    "                else:\n",
    "                    maze_row.append('  ')\n",
    "            maze_rows.append(''.join(maze_row))\n",
    "            maze_row = ['|']\n",
    "            for x in range(self.nx):\n",
    "                if self.maze_map[x][y].walls['S']:\n",
    "                    maze_row.append('-+')\n",
    "                else:\n",
    "                    maze_row.append(' +')\n",
    "            maze_rows.append(''.join(maze_row))\n",
    "        return '\\n'.join(maze_rows)\n",
    "\n",
    "    def write_svg(self, filename):\n",
    "        \"\"\"Write an SVG image of the maze to filename.\"\"\"\n",
    "\n",
    "        aspect_ratio = self.nx / self.ny\n",
    "        # Pad the maze all around by this amount.\n",
    "        padding = 10\n",
    "        # Height and width of the maze image (excluding padding), in pixels\n",
    "        height = 500\n",
    "        width = int(height * aspect_ratio)\n",
    "        # Scaling factors mapping maze coordinates to image coordinates\n",
    "        scy, scx = height / self.ny, width / self.nx\n",
    "\n",
    "        def write_wall(ww_f, ww_x1, ww_y1, ww_x2, ww_y2):\n",
    "            \"\"\"Write a single wall to the SVG image file handle f.\"\"\"\n",
    "\n",
    "            print('<line x1=\"{}\" y1=\"{}\" x2=\"{}\" y2=\"{}\"/>'\n",
    "                  .format(ww_x1, ww_y1, ww_x2, ww_y2), file=ww_f)\n",
    "\n",
    "        # Write the SVG image file for maze\n",
    "        with open(filename, 'w') as f:\n",
    "            # SVG preamble and styles.\n",
    "            print('<?xml version=\"1.0\" encoding=\"utf-8\"?>', file=f)\n",
    "            print('<svg xmlns=\"http://www.w3.org/2000/svg\"', file=f)\n",
    "            print('    xmlns:xlink=\"http://www.w3.org/1999/xlink\"', file=f)\n",
    "            print('    width=\"{:d}\" height=\"{:d}\" viewBox=\"{} {} {} {}\">'\n",
    "                  .format(width + 2 * padding, height + 2 * padding,\n",
    "                          -padding, -padding, width + 2 * padding, height + 2 * padding),\n",
    "                  file=f)\n",
    "            print('<defs>\\n<style type=\"text/css\"><![CDATA[', file=f)\n",
    "            print('line {', file=f)\n",
    "            print('    stroke: #000000;\\n    stroke-linecap: square;', file=f)\n",
    "            print('    stroke-width: 5;\\n}', file=f)\n",
    "            print(']]></style>\\n</defs>', file=f)\n",
    "            # Draw the \"South\" and \"East\" walls of each cell, if present (these\n",
    "            # are the \"North\" and \"West\" walls of a neighbouring cell in\n",
    "            # general, of course).\n",
    "            for x in range(self.nx):\n",
    "                for y in range(self.ny):\n",
    "                    if self.cell_at(x, y).walls['S']:\n",
    "                        x1, y1, x2, y2 = x * scx, (y + 1) * scy, (x + 1) * scx, (y + 1) * scy\n",
    "                        write_wall(f, x1, y1, x2, y2)\n",
    "                    if self.cell_at(x, y).walls['E']:\n",
    "                        x1, y1, x2, y2 = (x + 1) * scx, y * scy, (x + 1) * scx, (y + 1) * scy\n",
    "                        write_wall(f, x1, y1, x2, y2)\n",
    "            # Draw the North and West maze border, which won't have been drawn\n",
    "            # by the procedure above.\n",
    "            print('<line x1=\"0\" y1=\"0\" x2=\"{}\" y2=\"0\"/>'.format(width), file=f)\n",
    "            print('<line x1=\"0\" y1=\"0\" x2=\"0\" y2=\"{}\"/>'.format(height), file=f)\n",
    "            print('</svg>', file=f)\n",
    "\n",
    "    def find_valid_neighbours(self, cell):\n",
    "        \"\"\"Return a list of unvisited neighbours to cell.\"\"\"\n",
    "\n",
    "        delta = [('W', (-1, 0)),\n",
    "                 ('E', (1, 0)),\n",
    "                 ('S', (0, 1)),\n",
    "                 ('N', (0, -1))]\n",
    "        neighbours = []\n",
    "        for direction, (dx, dy) in delta:\n",
    "            x2, y2 = cell.x + dx, cell.y + dy\n",
    "            if (0 <= x2 < self.nx) and (0 <= y2 < self.ny):\n",
    "                neighbour = self.cell_at(x2, y2)\n",
    "                if neighbour.has_all_walls():\n",
    "                    neighbours.append((direction, neighbour))\n",
    "        return neighbours\n",
    "\n",
    "    def make_maze(self):\n",
    "        # Total number of cells.\n",
    "        n = self.nx * self.ny\n",
    "        cell_stack = []\n",
    "        current_cell = self.cell_at(self.ix, self.iy)\n",
    "        # Total number of visited cells during maze construction.\n",
    "        nv = 1\n",
    "\n",
    "        while nv < n:\n",
    "            neighbours = self.find_valid_neighbours(current_cell)\n",
    "\n",
    "            if not neighbours:\n",
    "                # We've reached a dead end: backtrack.\n",
    "                current_cell = cell_stack.pop()\n",
    "                continue\n",
    "\n",
    "            # Choose a random neighbouring cell and move to it.\n",
    "            direction, next_cell = random.choice(neighbours)\n",
    "            current_cell.knock_down_wall(next_cell, direction)\n",
    "            cell_stack.append(current_cell)\n",
    "            current_cell = next_cell\n",
    "            nv += 1\n",
    "            \n",
    "    def write_to_canvas(self, canvas, maze_height, maze_padding ): \n",
    "        ' draw the maze onto the canvas '\n",
    "\n",
    "        aspect_ratio = self.nx / self.ny\n",
    "        # Pad the maze all around by this amount.\n",
    "        padding = maze_padding\n",
    "        \n",
    "        # Height and width of the maze image (excluding padding), in pixels\n",
    "        height = maze_height\n",
    "        width = int(height * aspect_ratio)\n",
    "        \n",
    "        # Scaling factors mapping maze coordinates to image coordinates\n",
    "        scy, scx = height / self.ny, width / self.nx\n",
    "\n",
    "        canvas.line_width = 4\n",
    "        canvas.line_cap = 'square'    \n",
    "        \n",
    "        canvas.stroke_style = '#000'        \n",
    "        canvas.set_line_dash([0,0])        \n",
    "\n",
    "        def draw_wall( x1,y1,x2,y2 ):\n",
    "            canvas.begin_path()\n",
    "            canvas.move_to(x1 + padding, y1 + padding)\n",
    "            canvas.line_to(x2 + padding, y2 + padding)\n",
    "            canvas.stroke()\n",
    "\n",
    "        # Draw the \"South\" and \"East\" walls of each cell, if present (these\n",
    "        # are the \"North\" and \"West\" walls of a neighbouring cell in\n",
    "        # general, of course).\n",
    "        for x in range(self.nx):\n",
    "            for y in range(self.ny):\n",
    "                if self.cell_at(x, y).walls['S']:\n",
    "                    x1, y1, x2, y2 = x * scx, (y + 1) * scy, (x + 1) * scx, (y + 1) * scy\n",
    "                    draw_wall(x1, y1, x2, y2)\n",
    "                if self.cell_at(x, y).walls['E']:\n",
    "                    x1, y1, x2, y2 = (x + 1) * scx, y * scy, (x + 1) * scx, (y + 1) * scy\n",
    "                    draw_wall(x1, y1, x2, y2)\n",
    "\n",
    "        # Draw the North and West maze border, which won't have been drawn\n",
    "        # by the procedure above.\n",
    "        draw_wall(0, 0, 0, height)        \n",
    "        draw_wall(0, 0, width, 0)                    "
   ]
  },
  {
   "cell_type": "code",
   "execution_count": 7,
   "metadata": {},
   "outputs": [],
   "source": [
    "sprites = Image.from_file('../Images/BabyRobot64_Sprites.png')\n",
    "canvas = Canvas(width=132, height=328, sync_image_data=True)   \n",
    "\n",
    "def save_to_file(*args, **kwargs):\n",
    "    canvas.to_file('Images/my_test_file.png')\n",
    "\n",
    "# Listen to changes on the ``image_data`` trait and call ``save_to_file`` when it changes.\n",
    "canvas.observe(save_to_file, 'image_data')\n",
    "\n",
    "canvas.draw_image( sprites, 0, 0 )"
   ]
  },
  {
   "cell_type": "code",
   "execution_count": 8,
   "metadata": {},
   "outputs": [
    {
     "data": {
      "application/vnd.jupyter.widget-view+json": {
       "model_id": "c546b2bee02b431ab0127e2893fc725e",
       "version_major": 2,
       "version_minor": 0
      },
      "text/plain": [
       "Canvas(height=328, image_data=b'\\x89PNG\\r\\n\\x1a\\n\\x00\\x00\\x00\\rIHDR\\x00\\x00\\x00\\x84\\x00\\x00\\x01H\\x08\\x06\\x00\\x…"
      ]
     },
     "metadata": {},
     "output_type": "display_data"
    }
   ],
   "source": [
    "canvas"
   ]
  },
  {
   "cell_type": "code",
   "execution_count": 9,
   "metadata": {},
   "outputs": [
    {
     "data": {
      "application/vnd.jupyter.widget-view+json": {
       "model_id": "c62689c7c7db4e7184fc80ac742b5241",
       "version_major": 2,
       "version_minor": 0
      },
      "text/plain": [
       "Canvas(height=64, width=64)"
      ]
     },
     "metadata": {},
     "output_type": "display_data"
    }
   ],
   "source": [
    "# wait for image to load\n",
    "sleep(1.0)\n",
    "\n",
    "image_data = canvas.get_image_data(x=0, y=0, width=64, height=64)\n",
    "\n",
    "canvas2 = Canvas(width=64, height=64)   \n",
    "canvas2.put_image_data( image_data, 0, 0 )\n",
    "canvas2"
   ]
  },
  {
   "cell_type": "code",
   "execution_count": 10,
   "metadata": {},
   "outputs": [
    {
     "data": {
      "application/vnd.jupyter.widget-view+json": {
       "model_id": "8b4d5b20605540a09c0928c7515c2ab6",
       "version_major": 2,
       "version_minor": 0
      },
      "text/plain": [
       "Canvas(height=64, width=64)"
      ]
     },
     "metadata": {},
     "output_type": "display_data"
    }
   ],
   "source": [
    "image_data = canvas.get_image_data(x=64, y=0, width=64, height=64)\n",
    "canvas3 = Canvas(width=64, height=64)   \n",
    "canvas3.put_image_data( image_data, 0, 0 )\n",
    "canvas3"
   ]
  },
  {
   "cell_type": "code",
   "execution_count": 11,
   "metadata": {},
   "outputs": [],
   "source": [
    "def draw_square(canvas, pos, width, color):\n",
    "    canvas.fill_style = color\n",
    "    canvas.fill_rect(pos, pos, width, width)\n",
    "    \n",
    "def draw_rect(canvas, width, height, color):\n",
    "    canvas.fill_style = color\n",
    "    canvas.fill_rect(0, 0, width, height)    "
   ]
  },
  {
   "cell_type": "code",
   "execution_count": 12,
   "metadata": {},
   "outputs": [],
   "source": [
    "m = MultiCanvas(n_canvases=3, width=256, height=256, sync_image_data=True)"
   ]
  },
  {
   "cell_type": "code",
   "execution_count": 13,
   "metadata": {},
   "outputs": [],
   "source": [
    "# draw the base of the grid\n",
    "draw_square(m[0], 0, 256, 'orange')"
   ]
  },
  {
   "cell_type": "code",
   "execution_count": 14,
   "metadata": {},
   "outputs": [],
   "source": [
    "# draw the grid onto the canvas\n",
    "with hold_canvas(m[1]):\n",
    "    for y in range(4):   \n",
    "        for x in range(4):   \n",
    "            m[1].stroke_rect(64 * x, 64 * y, 64, 64)"
   ]
  },
  {
   "cell_type": "code",
   "execution_count": 15,
   "metadata": {},
   "outputs": [],
   "source": [
    "import pdb\n",
    "\n",
    "from enum import Enum\n",
    "\n",
    "class Direction(Enum):\n",
    "    North = 1\n",
    "    East = 2\n",
    "    South = 3\n",
    "    West = 4\n",
    "    \n",
    "    # get the enum name without the class\n",
    "    def __str__(self): return self.name\n",
    "\n",
    "\n",
    "class RobotPosition():\n",
    "    \n",
    "    sprite_count = 0\n",
    "    move_count = 0   \n",
    "    canvas_sprites = []\n",
    "\n",
    "    \n",
    "    def __init__(self, canvas, x_size = 256, y_size = 256, initial_sprite = 4, maze = None):\n",
    "        \n",
    "        self.canvas = canvas\n",
    "        self.maze = maze\n",
    "                        \n",
    "        self.x = 0\n",
    "        self.y = 0     \n",
    "        self.step = 4\n",
    "        self.robot_size = 64\n",
    "        \n",
    "        # the number of steps before a sprite change\n",
    "        self.sprite_change = 4\n",
    "        \n",
    "        if maze is None:\n",
    "            self.x_size = x_size\n",
    "            self.y_size = y_size\n",
    "        else:\n",
    "            x,y = maze.dimensions()\n",
    "            self.x_size = x * self.robot_size\n",
    "            self.y_size = y * self.robot_size\n",
    "                       \n",
    "        self.sprite_index = initial_sprite\n",
    "        self.load_sprites() \n",
    "        \n",
    "    def get_number_of_sprites(self):\n",
    "        return len(self.canvas_sprites)\n",
    "    \n",
    "    def get_cell_position(self):\n",
    "        return self.x//self.robot_size, self.y//self.robot_size\n",
    "    \n",
    "    def set_cell_position(self, grid_x, grid_y):\n",
    "        self.x = grid_x * self.robot_size\n",
    "        self.y = grid_y * self.robot_size    \n",
    "        \n",
    "    def get_array(self,*args, **kwargs):                \n",
    "        ' callback to split the sprite sheet into individual sprites '\n",
    "        index = 0\n",
    "        for row in range(5):\n",
    "            for col in range(2):                                 \n",
    "                x = col * (self.robot_size + 1)                    \n",
    "                y = row * (self.robot_size + 1)\n",
    "        \n",
    "                # copy the sprite from the sprite sheet\n",
    "                image_data = self.sprite_canvas.get_image_data( x, y, self.robot_size)\n",
    "\n",
    "                # put the sprite onto its own canvas\n",
    "                canvas = Canvas(width=self.robot_size, height=self.robot_size)\n",
    "                canvas.put_image_data( image_data, 0, 0 )  \n",
    "                self.canvas_sprites.append( canvas )\n",
    "        \n",
    "        # add a sprite to the display\n",
    "        self.canvas.clear()\n",
    "        self.draw()         \n",
    "        \n",
    "    def load_sprites(self):        \n",
    "        ' load the sprite sheet and when loaded callback to split it into individual sprites '\n",
    "        sprites = Image.from_file('../Images/BabyRobot64_Sprites.png')\n",
    "        self.sprite_canvas = Canvas(width=132, height=328, sync_image_data=True)   \n",
    "        self.sprite_canvas.draw_image( sprites, 0, 0 )                 \n",
    "        self.sprite_canvas.observe(self.get_array, 'image_data')                \n",
    "            \n",
    "    def update_sprite(self):\n",
    "        ' randomly change to the next sprite '        \n",
    "        self.sprite_count += 1\n",
    "        if self.sprite_count > self.sprite_change: \n",
    "            self.sprite_count = 0   \n",
    "            self.sprite_index = self.sprite_index + random.randint(-1,+1)   \n",
    "            if self.sprite_index < 0: \n",
    "                self.sprite_index = 0\n",
    "            if self.sprite_index >= self.get_number_of_sprites():\n",
    "                self.sprite_index = (self.get_number_of_sprites()-1)    \n",
    "                              \n",
    "    def draw_sprite(self,index):   \n",
    "        ' remove the last sprite and add the new one at the current position '\n",
    "        with hold_canvas(self.canvas):\n",
    "            self.canvas.clear_rect(self.x, self.y, self.robot_size)                        \n",
    "            self.canvas.draw_image(self.canvas_sprites[index], self.x, self.y )                       \n",
    "        \n",
    "    def draw(self):    \n",
    "        ' add the current sprite at the current position '        \n",
    "        self.draw_sprite(self.sprite_index)\n",
    "        self.update_sprite()               \n",
    "            \n",
    "    def move(self,direction):        \n",
    "        ' move from one square to the next in the specified direction '\n",
    "        \n",
    "        cell = None\n",
    "        if self.maze is not None:\n",
    "            x, y = self.get_cell_position()\n",
    "            cell = self.maze.cell_at( x, y )            \n",
    "            if direction == Direction.North and cell.walls['N']: return\n",
    "            if direction == Direction.South and cell.walls['S']: return\n",
    "            if direction == Direction.East and cell.walls['E']: return\n",
    "            if direction == Direction.West and cell.walls['W']: return\n",
    "        \n",
    "        move_method_name = f\"move_{direction}\"        \n",
    "        for step in range(64//self.step):\n",
    "            getattr(self,move_method_name)()  \n",
    "            self.draw()  \n",
    "            sleep(0.10) # pause between each move step        \n",
    "            \n",
    "        self.move_count += 1\n",
    "        \n",
    "    def move_East(self):        \n",
    "        if self.x < (self.x_size - self.robot_size):\n",
    "            self.x += self.step\n",
    "            \n",
    "    def move_West(self):\n",
    "        if self.x > 0: \n",
    "            self.x -= self.step            \n",
    "            \n",
    "    def move_North(self):\n",
    "        if self.y > 0:           \n",
    "            self.y -= self.step\n",
    "            \n",
    "    def move_South(self):\n",
    "        if self.y < (self.y_size - self.robot_size):\n",
    "            self.y += self.step\n",
    "\n",
    "        "
   ]
  },
  {
   "cell_type": "code",
   "execution_count": 16,
   "metadata": {},
   "outputs": [
    {
     "data": {
      "application/vnd.jupyter.widget-view+json": {
       "model_id": "90282b9c286349e1b39e519c1ece987b",
       "version_major": 2,
       "version_minor": 0
      },
      "text/plain": [
       "MultiCanvas(height=256, sync_image_data=True, width=256)"
      ]
     },
     "metadata": {},
     "output_type": "display_data"
    }
   ],
   "source": [
    "m"
   ]
  },
  {
   "cell_type": "code",
   "execution_count": 17,
   "metadata": {},
   "outputs": [],
   "source": [
    "robot_position = RobotPosition(m[2])"
   ]
  },
  {
   "cell_type": "code",
   "execution_count": 18,
   "metadata": {},
   "outputs": [],
   "source": [
    "# for i in range(20): \n",
    "#     robot_position.move( random.choice(list(Direction)))      "
   ]
  },
  {
   "cell_type": "code",
   "execution_count": 19,
   "metadata": {},
   "outputs": [],
   "source": [
    "def save_to_file(*args, **kwargs):    \n",
    "    global robot_position\n",
    "    m.to_file(f'Images/test_{robot_position.move_count}.png')   \n",
    "        \n",
    "m.observe(save_to_file, 'image_data')                         "
   ]
  },
  {
   "cell_type": "code",
   "execution_count": 20,
   "metadata": {},
   "outputs": [
    {
     "data": {
      "application/vnd.jupyter.widget-view+json": {
       "model_id": "d27f4dec5199428b934e517b231963cd",
       "version_major": 2,
       "version_minor": 0
      },
      "text/plain": [
       "VBox(children=(MultiCanvas(height=256, sync_image_data=True, width=256), HBox(children=(Play(value=1, interval…"
      ]
     },
     "metadata": {},
     "output_type": "display_data"
    }
   ],
   "source": [
    "play = Play(interval=500, min=1, max=20, step=1)\n",
    "progress = IntProgress(min=1, max=20, step=1)\n",
    "\n",
    "link((play, 'value'), (progress, 'value'))\n",
    "robot_position = RobotPosition(m[2])\n",
    "\n",
    "def on_update(*args):   \n",
    "    with hold_canvas(m):\n",
    "        robot_position.move( random.choice(list(Direction)))  \n",
    "\n",
    "play.observe(on_update, 'value')\n",
    "\n",
    "layout = Layout(width='256px', height='296px')\n",
    "VBox((m, HBox((play, progress))),layout=layout)"
   ]
  },
  {
   "cell_type": "code",
   "execution_count": 21,
   "metadata": {},
   "outputs": [],
   "source": [
    "sprite1 = Image.from_file('../Images/BabyRobot64_GL.png')\n",
    "\n",
    "def move_one_square( canvas ):\n",
    "    for x in range(0,64,4):\n",
    "        with hold_canvas(canvas):\n",
    "            canvas.clear()\n",
    "            canvas.draw_image(sprite1, x, 64)   \n",
    "        sleep(0.10)"
   ]
  },
  {
   "cell_type": "code",
   "execution_count": 22,
   "metadata": {},
   "outputs": [],
   "source": [
    "m[2].clear()\n",
    "move_one_square(m[2]) "
   ]
  },
  {
   "cell_type": "code",
   "execution_count": 23,
   "metadata": {},
   "outputs": [],
   "source": [
    "def save_to_file(*args, **kwargs):\n",
    "    print(args)\n",
    "    m.to_file(f\"Images/my_file_.png\")         "
   ]
  },
  {
   "cell_type": "code",
   "execution_count": 25,
   "metadata": {},
   "outputs": [],
   "source": [
    "# canvas = Canvas(width=200, height=200, sync_image_data=True)\n",
    "\n",
    "# Perform some drawings...\n",
    "\n",
    "m.sync_image_data = True\n",
    "m.to_file('Images/my_file.png')\n",
    "m.sync_image_data = False"
   ]
  },
  {
   "cell_type": "code",
   "execution_count": 26,
   "metadata": {},
   "outputs": [],
   "source": [
    "from PIL import Image as PILImage\n",
    "import numpy as np\n",
    "\n",
    "sprite3 = np.array(PILImage.open('../Images/smoke_texture0.png'))"
   ]
  },
  {
   "cell_type": "code",
   "execution_count": 27,
   "metadata": {},
   "outputs": [],
   "source": [
    "m[2].put_image_data(sprite3, 50, 150)"
   ]
  },
  {
   "cell_type": "markdown",
   "metadata": {},
   "source": [
    "# Maze Test"
   ]
  },
  {
   "cell_type": "code",
   "execution_count": 28,
   "metadata": {},
   "outputs": [],
   "source": [
    "maze_rows = 6\n",
    "maze_cols = 10\n",
    "cell_pixels = 64\n",
    "padding = 2\n",
    "\n",
    "maze_width = (maze_cols * cell_pixels)\n",
    "maze_height = (maze_rows * cell_pixels)\n",
    "\n",
    "m = MultiCanvas(n_canvases=3, \n",
    "                width= maze_width + (padding*2), \n",
    "                height= maze_height + (padding*2), \n",
    "                sync_image_data=True)"
   ]
  },
  {
   "cell_type": "code",
   "execution_count": 29,
   "metadata": {},
   "outputs": [],
   "source": [
    "# from df_maze import Maze\n",
    "\n",
    "# Maze dimensions (ncols, nrows)\n",
    "nx, ny = 15, 15\n",
    "# Maze entry position\n",
    "ix, iy = 0, 0\n",
    "\n",
    "maze = Maze(maze_cols, maze_rows, ix, iy)\n",
    "maze.make_maze()\n",
    "\n",
    "# print(maze)\n",
    "maze.write_svg('maze.svg')"
   ]
  },
  {
   "cell_type": "code",
   "execution_count": 30,
   "metadata": {},
   "outputs": [],
   "source": [
    "# draw the base of the grid\n",
    "max_x = maze_width + (padding*2)\n",
    "max_y = maze_height + (padding*2)\n",
    "draw_rect(m[0], max_x, max_y, 'orange')\n",
    "\n",
    "# add dashed lines showing grid\n",
    "m[1].clear()\n",
    "m[1].stroke_style = '#777'\n",
    "m[1].line_width = 1\n",
    "m[1].set_line_dash([4,8])\n",
    "\n",
    "with hold_canvas(m[1]):\n",
    "    # draw the grid onto the canvas\n",
    "    for y in range(maze_rows):   \n",
    "        for x in range(maze_cols):   \n",
    "            m[1].stroke_rect(64 * x + padding, 64 * y + padding, 64, 64)\n",
    "            \n",
    "    # add the maze\n",
    "    maze.write_to_canvas(m[1],maze_height,padding)                       \n",
    "\n",
    "    # add the start\n",
    "    m[0].fill_style = '#d00'\n",
    "    m[0].fill_rect(padding, padding, 64, 64)         \n",
    "    m[1].fill_style = '#fff'\n",
    "    m[1].text_align = 'left'\n",
    "    m[1].font = 'bold 16px sans-serif'\n",
    "    m[1].fill_text(str(\"START\"), padding + 6, padding + 37)    \n",
    "    \n",
    "    # add the exit\n",
    "    m[0].fill_style = 'green'\n",
    "    m[0].fill_rect(max_x-66, max_y-66, 64, 64)    \n",
    "    m[1].fill_style = '#fff'\n",
    "    m[1].text_align = 'left'\n",
    "    m[1].font = 'bold 20px sans-serif'\n",
    "    m[1].fill_text(str(\"EXIT\"), max_x - 56, max_y -26)"
   ]
  },
  {
   "cell_type": "code",
   "execution_count": 31,
   "metadata": {},
   "outputs": [
    {
     "data": {
      "application/vnd.jupyter.widget-view+json": {
       "model_id": "62a69607cf9647c8a67c725cb41082cf",
       "version_major": 2,
       "version_minor": 0
      },
      "text/plain": [
       "MultiCanvas(height=388, sync_image_data=True, width=644)"
      ]
     },
     "metadata": {},
     "output_type": "display_data"
    }
   ],
   "source": [
    "m"
   ]
  },
  {
   "cell_type": "code",
   "execution_count": 32,
   "metadata": {},
   "outputs": [],
   "source": [
    "robot_position = RobotPosition(m[2],maze=maze)"
   ]
  },
  {
   "cell_type": "code",
   "execution_count": 36,
   "metadata": {},
   "outputs": [],
   "source": [
    "# for i in range(60): \n",
    "#     robot_position.move( random.choice(list(Direction))) "
   ]
  },
  {
   "cell_type": "code",
   "execution_count": 37,
   "metadata": {},
   "outputs": [],
   "source": [
    "# add a callback function to the canvas to save each step to a PNG\n",
    "def save_to_file(*args, **kwargs):    \n",
    "    global robot_position\n",
    "    m.to_file(f'Images/test_{robot_position.move_count}.png')   \n",
    "        \n",
    "m.observe(save_to_file, 'image_data') "
   ]
  },
  {
   "cell_type": "code",
   "execution_count": 38,
   "metadata": {},
   "outputs": [
    {
     "data": {
      "application/vnd.jupyter.widget-view+json": {
       "model_id": "352f459da2fb477ba686fb7b68d129ea",
       "version_major": 2,
       "version_minor": 0
      },
      "text/plain": [
       "VBox(children=(MultiCanvas(height=388, image_data=b'\\x89PNG\\r\\n\\x1a\\n\\x00\\x00\\x00\\rIHDR\\x00\\x00\\x02\\x84\\x00\\x0…"
      ]
     },
     "metadata": {},
     "output_type": "display_data"
    }
   ],
   "source": [
    "play = Play(interval=500, min=1, max=40, step=1)\n",
    "progress = IntProgress(min=1, max=40, step=1)\n",
    "\n",
    "link((play, 'value'), (progress, 'value'))\n",
    "robot_position = RobotPosition(m[2],maze=maze)\n",
    "\n",
    "def on_update(*args):   \n",
    "    robot_position.move( random.choice(list(Direction)))  \n",
    "\n",
    "play.observe(on_update, 'value')\n",
    "\n",
    "pixel_width = maze_cols * cell_pixels\n",
    "pixel_height = maze_rows * cell_pixels\n",
    "\n",
    "layout = Layout(width=f'{pixel_width}px', height='{pixel_height}px')\n",
    "VBox((m, HBox((play, progress))),layout=layout)"
   ]
  },
  {
   "cell_type": "markdown",
   "metadata": {},
   "source": [
    "## Initial Level"
   ]
  },
  {
   "cell_type": "code",
   "execution_count": 236,
   "metadata": {},
   "outputs": [],
   "source": [
    "maze_rows = 3\n",
    "maze_cols = 5\n",
    "cell_pixels = 64\n",
    "padding = 2\n",
    "\n",
    "maze_width = (maze_cols * cell_pixels)\n",
    "maze_height = (maze_rows * cell_pixels)\n",
    "\n",
    "m = MultiCanvas(n_canvases=3, \n",
    "                width= maze_width + (padding*2) + 100, \n",
    "                height= maze_height + (padding*2), \n",
    "                sync_image_data=True)\n",
    "\n",
    "m.observe(save_to_file, 'image_data')"
   ]
  },
  {
   "cell_type": "code",
   "execution_count": 237,
   "metadata": {},
   "outputs": [],
   "source": [
    "max_x = maze_width + (padding*2)\n",
    "max_y = maze_height + (padding*2)"
   ]
  },
  {
   "cell_type": "code",
   "execution_count": 238,
   "metadata": {},
   "outputs": [],
   "source": [
    "def grid_to_pixels( grid_pos, xoff = 0, yoff = 0 ):\n",
    "    x = (grid_pos[0] * cell_pixels) + padding + xoff\n",
    "    y = max_y - ((grid_pos[1] + 1) * cell_pixels) - padding + yoff   \n",
    "    return x,y"
   ]
  },
  {
   "cell_type": "code",
   "execution_count": 239,
   "metadata": {},
   "outputs": [],
   "source": [
    "# draw the base of the grid\n",
    "draw_rect(m[0], max_x, max_y, 'orange')\n",
    "\n",
    "start = [0,1]\n",
    "end = [3,0]\n",
    "\n",
    "with hold_canvas(m[1]):\n",
    "    \n",
    "    # add dashed lines showing grid\n",
    "    m[1].clear()\n",
    "    m[1].stroke_style = '#777'\n",
    "    m[1].line_width = 1\n",
    "    m[1].set_line_dash([4,8])    \n",
    "    \n",
    "    # draw the grid onto the canvas\n",
    "    for y in range(maze_rows):   \n",
    "        for x in range(maze_cols):   \n",
    "            m[1].stroke_rect(64 * x + padding, 64 * y + padding, 64, 64)\n",
    "                              \n",
    "\n",
    "    # add the start\n",
    "    start_x, start_y = grid_to_pixels( start )\n",
    "    m[0].fill_style = '#ed1818'\n",
    "    m[0].fill_rect(start_x, start_y, 64, 64)         \n",
    "    m[1].fill_style = '#fff'\n",
    "    m[1].text_align = 'left'\n",
    "    m[1].font = 'bold 16px sans-serif'\n",
    "#     m[1].fill_text(str(\"START\"), start_x + 6, start_y + 37)    \n",
    "    \n",
    "    # add the exit\n",
    "    end_x, end_y = grid_to_pixels( end )\n",
    "    m[0].fill_style = 'green'\n",
    "    m[0].fill_rect(end_x, end_y, 64, 64)    \n",
    "    m[1].fill_style = '#fff'\n",
    "    m[1].text_align = 'left'\n",
    "    m[1].font = 'bold 20px sans-serif'\n",
    "    m[1].fill_text(str(\"EXIT\"), end_x + 10, end_y + 40) \n",
    "    \n",
    "    # draw the border\n",
    "    m[1].stroke_style = '#000'\n",
    "    m[1].line_width = 5\n",
    "    m[1].set_line_dash([0,0])\n",
    "    m[1].stroke_rect(2, 2, max_x-4, max_y-4)\n",
    "    \n",
    "    \n",
    "    x1,y1 = grid_to_pixels( [1,1], 2, 2 )\n",
    "    x2,y2 = grid_to_pixels( [4,0], -2, -2 )      \n",
    "    m[1].fill_style = '#fff'\n",
    "    m[1].fill_rect(x1,y1,x2-x1,y2-y1)\n",
    "    m[1].stroke_rect(x1,y1,x2-x1,y2-y1)      \n",
    "    \n",
    "    \n",
    "    # draw the compass       \n",
    "    m[1].line_width = 2\n",
    "    m[1].fill_style = '#000'\n",
    "    m[1].stroke_style = '#000'\n",
    "    m[1].begin_path()\n",
    "    m[1].move_to(max_x + 57, 25)\n",
    "    m[1].line_to(max_x + 57, 65)      \n",
    "    m[1].move_to(max_x + 37, 45)\n",
    "    m[1].line_to(max_x + 77, 45)      \n",
    "    m[1].stroke()    \n",
    "    \n",
    "    m[1].font = 'bold 20px sans-serif'\n",
    "    m[1].fill_text(str(\"N\"), max_x + 49, 18)     \n",
    "    m[1].fill_text(str(\"E\"), max_x + 82, 52)     \n",
    "    m[1].fill_text(str(\"S\"), max_x + 51, 85)     \n",
    "    m[1].fill_text(str(\"W\"), max_x + 15, 52)      "
   ]
  },
  {
   "cell_type": "code",
   "execution_count": 245,
   "metadata": {},
   "outputs": [],
   "source": [
    "# add value to each grid cell\n",
    "def add_value( canvas, pos, value ):\n",
    "    end_x, end_y = grid_to_pixels( pos )   \n",
    "    \n",
    "    canvas.clear_rect(end_x+21,end_y+24,19,18)  \n",
    "#     canvas.fill_style = 'orange'\n",
    "#     canvas.fill_rect(end_x+21,end_y+24,20,18)\n",
    "    canvas.fill_style = '#002'\n",
    "    canvas.text_align = 'left'\n",
    "    canvas.font = 'bold 20px sans-serif'\n",
    "    canvas.fill_text(f\"{value}\", end_x + 22, end_y + 40)  \n",
    "    \n",
    "def add_robot_value( canvas, pos, value ):\n",
    "    end_x, end_y = grid_to_pixels( pos )   \n",
    "  \n",
    "    # clear the background number \n",
    "    m[1].clear_rect(end_x+21,end_y+24,20,20)  \n",
    "    \n",
    "    # add a number on top of baby robot\n",
    "    canvas.fill_style = '#ccc'\n",
    "    canvas.fill_rect(end_x+21,end_y+27,20,18)\n",
    "    canvas.fill_style = '#002'\n",
    "    canvas.text_align = 'left'\n",
    "    canvas.font = 'bold 20px sans-serif'\n",
    "    canvas.fill_text(f\"{value}\", end_x + 22, end_y + 43)     "
   ]
  },
  {
   "cell_type": "code",
   "execution_count": 246,
   "metadata": {},
   "outputs": [
    {
     "data": {
      "application/vnd.jupyter.widget-view+json": {
       "model_id": "6f1172b57ba14e76b3932541a0020c4e",
       "version_major": 2,
       "version_minor": 0
      },
      "text/plain": [
       "MultiCanvas(height=196, image_data=b'\\x89PNG\\r\\n\\x1a\\n\\x00\\x00\\x00\\rIHDR\\x00\\x00\\x01\\xa8\\x00\\x00\\x00\\xc4\\x08\\x…"
      ]
     },
     "metadata": {},
     "output_type": "display_data"
    }
   ],
   "source": [
    "m"
   ]
  },
  {
   "cell_type": "code",
   "execution_count": 247,
   "metadata": {},
   "outputs": [],
   "source": [
    "robot_position = RobotPosition(m[2])\n",
    "robot_position.set_cell_position(0,1)"
   ]
  },
  {
   "cell_type": "code",
   "execution_count": 248,
   "metadata": {},
   "outputs": [
    {
     "data": {
      "application/vnd.jupyter.widget-view+json": {
       "model_id": "9a9353cce5844abca0e63d35fcf7e756",
       "version_major": 2,
       "version_minor": 0
      },
      "text/plain": [
       "VBox(children=(MultiCanvas(height=196, image_data=b'\\x89PNG\\r\\n\\x1a\\n\\x00\\x00\\x00\\rIHDR\\x00\\x00\\x01\\xa8\\x00\\x0…"
      ]
     },
     "metadata": {},
     "output_type": "display_data"
    }
   ],
   "source": [
    "play = Play(interval=500, min=1, max=40, step=1)\n",
    "progress = IntProgress(min=1, max=40, step=1)\n",
    "\n",
    "link((play, 'value'), (progress, 'value'))\n",
    "\n",
    "robot_position = RobotPosition(m[2])\n",
    "robot_position.set_cell_position(0,1)\n",
    "robot_position.sprite_change = 1    \n",
    "\n",
    "def on_update(*args):   \n",
    "    robot_position.draw()\n",
    "    add_robot_value( m[2], [0,1], -4 )\n",
    "\n",
    "play.observe(on_update, 'value')\n",
    "\n",
    "pixel_width = maze_cols * cell_pixels\n",
    "pixel_height = maze_rows * cell_pixels\n",
    "\n",
    "layout = Layout(width=f'{m.width}px', height='{m.height}px')\n",
    "VBox((m, HBox((play, progress))),layout=layout)"
   ]
  },
  {
   "cell_type": "code",
   "execution_count": 249,
   "metadata": {},
   "outputs": [
    {
     "name": "stdout",
     "output_type": "stream",
     "text": [
      "4 [3, 2]\n",
      "5 [2, 2]\n",
      "6 [1, 2]\n"
     ]
    }
   ],
   "source": [
    "from math import pi\n",
    "  \n",
    "text_canvas = m[1]    \n",
    "    \n",
    "pos = [3,0]\n",
    "for x in range( 1, 4 ):\n",
    "    pos[0] = 3 - x \n",
    "    add_value( text_canvas, pos, -x )     \n",
    "    \n",
    "pos = [0,0]    \n",
    "for y in range( 4, 7 ):\n",
    "    pos[1] = y - 3 \n",
    "    add_value( text_canvas, pos, -y )     \n",
    "    \n",
    "pos = [4,0]    \n",
    "for y in range( 1, 4 ):\n",
    "    pos[1] = y - 1 \n",
    "    add_value( text_canvas, pos, -y ) \n",
    "    \n",
    "for x in range( 4, 7 ):\n",
    "    pos[0] = 7 - x \n",
    "    add_value( text_canvas, pos, -x )    \n",
    "    print(x,pos)\n"
   ]
  },
  {
   "cell_type": "code",
   "execution_count": null,
   "metadata": {},
   "outputs": [],
   "source": []
  }
 ],
 "metadata": {
  "kernelspec": {
   "display_name": "Python 3",
   "language": "python",
   "name": "python3"
  },
  "language_info": {
   "codemirror_mode": {
    "name": "ipython",
    "version": 3
   },
   "file_extension": ".py",
   "mimetype": "text/x-python",
   "name": "python",
   "nbconvert_exporter": "python",
   "pygments_lexer": "ipython3",
   "version": "3.7.1"
  }
 },
 "nbformat": 4,
 "nbformat_minor": 2
}
