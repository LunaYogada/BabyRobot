{
 "cells": [
  {
   "cell_type": "code",
   "execution_count": 1,
   "metadata": {},
   "outputs": [],
   "source": [
    "# include the power socket setup, base classes and helpers\n",
    "# (see PowerSocketSystem.py)\n",
    "from PowerSocketSystem import *"
   ]
  },
  {
   "attachments": {
    "image.png": {
     "image/png": "[encoded data removed]"
    }
   },
   "cell_type": "markdown",
   "metadata": {},
   "source": [
    "## The Upper Confidence Bound (UCB) Algorithm\n",
    "\n",
    "As we've seen, Epsilon-Greedy has linear regret. It continues to explore the set of all actions, long after it has gained sufficient knowledge to know which of these actions are bad actions to take.\n",
    "\n",
    "A better approach, in terms of maximising the total reward, would be to restrict the sampling over time, to the actions showing the best performance. This is the exact approach taken by the Upper Confidence Bound (UCB) strategy.\n",
    "\n",
    "Rather than performing exploration by simply selecting an arbitrary action, chosen with a probability that remains constant, the UCB algorithm changes its exploration-exploitation balance as it gathers more knowledge of the environment. It moves from being primarily focused on exploration, when actions that have been tried the least are preferred, to instead concentrate on exploitation, selecting the action with the highest estimated reward.\n",
    "\n",
    "With UCB, 'Aₜ', the action chosen at time step 't', is given by:\n",
    "\n",
    "\n",
    "![image.png](attachment:image.png)\n",
    "\n",
    "\n",
    "where;\n",
    "Qₜ(a) is the estimated value of action 'a' at time step 't'.\n",
    "Nₜ(a) is the number of times that action 'a' has been selected, prior to time 't'.\n",
    "'c' is a constant, whose role will be described shortly.\n",
    "\n",
    "\n",
    "\n",
    "The formula for UCB can be thought of as being formed from 2 distinct parts:\n",
    "\n",
    "* Qₜ(a) represents the exploitation part of the equation. UCB is based on the principle of \"optimism in the fact of uncertainty\", which basically means, if you don't know which action is best then choose the one that currently looks to be the best. Taking this half of the equation by itself will do exactly that: the action that currently has the highest estimated reward will be the chosen action.\n",
    "\n",
    "\n",
    "* The second half of the equation adds exploration, with the degree of exploration being controlled by the hyper-parameter 'c'. Effectively this half of the equation provides a measure of the uncertainty for the action's reward estimate.\n",
    "If an action hasn't been tried very often, or not at all, then Nₜ(a) will be small. Consequently the uncertainty term will be large, making this action more likely to be selected. Every time an action is taken we become more confident about its estimate. In this case Nₜ(a) increments, and so the uncertainty term decreases, making it less likely that this action will be selected as a result of exploration (although it may still be selected as the action with the highest value, due to the exploitation term).\n",
    "When an action is not being selected, the uncertainty term will grow slowly, due to the log function in the numerator. Whereas, every time that the action is selected, the uncertainty will shrink rapidly due to the increase in Nₜ(a) being linear. So the exploration term will be larger for actions that have been selected infrequently, due to the uncertainty in the estimates of their rewards.\n",
    "As time progresses the exploration term gradually decreases (since as 'n' goes to infinity log n/n goes to zero), until eventually actions are selected based only on the exploitation term.\n",
    "\n",
    "The relative contributions of each of the exploration and exploitation terms can be seen in the graph below. Here, to simplify the comparison, we've taken only the first 2 sockets from our standard set. These 2 sockets have mean reward values of 6 and 4 seconds of charge respectively and it can be seen as time progresses that the estimate of the reward (the Q value, shown by the shaded bars) converges on this value for each socket.\n",
    "\n",
    "But the UCB formula also contains the uncertainty term, represented by the solid part of the bar for each socket, and the socket that gets selected is the one with the maximum value of Q plus this uncertainty term. So, on the graph, at each time step, the socket that will be selected is the one with tallest bar."
   ]
  },
  {
   "cell_type": "code",
   "execution_count": 2,
   "metadata": {},
   "outputs": [],
   "source": [
    "class UCBSocket( PowerSocket ):\n",
    "\n",
    "    def __init__( self, q, **kwargs ):    \n",
    "        \"\"\" initialize the UCB socket \"\"\"                  \n",
    "        \n",
    "        # store the confidence level controlling exploration\n",
    "        self.confidence_level = kwargs.pop('confidence_level', 2.0)       \n",
    "                \n",
    "        # pass the true reward value to the base PowerSocket   \n",
    "        super().__init__(q)           \n",
    "        \n",
    "    def uncertainty(self, t): \n",
    "        \"\"\" calculate the uncertainty in the estimate of this socket's mean \"\"\"\n",
    "        if self.n == 0: return float('inf')                         \n",
    "        return self.confidence_level * (np.sqrt(np.log(t) / self.n))         \n",
    "        \n",
    "    def sample(self,t):\n",
    "        \"\"\" the UCB reward is the estimate of the mean reward plus its uncertainty \"\"\"\n",
    "        return self.Q + self.uncertainty(t) \n",
    "        "
   ]
  },
  {
   "cell_type": "code",
   "execution_count": 3,
   "metadata": {},
   "outputs": [],
   "source": [
    "class UCBSocketTester( SocketTester ):\n",
    "\n",
    "    def __init__(self, socket_order=socket_order, confidence_level=2.0 ):                  \n",
    "        \"\"\" initialize the socket tester \"\"\"                  \n",
    "        super().__init__(socket = UCBSocket, \n",
    "                         socket_order = socket_order, \n",
    "                         confidence_level = confidence_level, \n",
    "                         number_of_stats = 3) # a UCB socket tester records 3 bits of information over a run\n",
    "        \n",
    "    def get_socket_stats( self, t ):\n",
    "        \"\"\" record the current values of each socket \"\"\"\n",
    "        socket_stats = [[socket.Q,socket.n,socket.uncertainty(t+1)] for socket in self.sockets]\n",
    "        return socket_stats   \n",
    "\n",
    "    def select_socket( self, t ):\n",
    "        \"\"\" choose the socket with the current highest UCB reward \"\"\"\n",
    "        socket_index = random_argmax([socket.sample(t+1) for socket in self.sockets])     \n",
    "        return socket_index        "
   ]
  },
  {
   "cell_type": "code",
   "execution_count": 4,
   "metadata": {},
   "outputs": [
    {
     "data": {
      "text/plain": [
       "(19, 114.77150488946722)"
      ]
     },
     "execution_count": 4,
     "metadata": {},
     "output_type": "execute_result"
    }
   ],
   "source": [
    "# do a single run with only 2 sockets to examine how the exploration and exploitation terms of the UCB equation vary\n",
    "number_of_sockets = 2\n",
    "number_of_steps = 20\n",
    "\n",
    "# set the random seed to produce a recreatable graph\n",
    "random.seed(0) \n",
    "np.random.seed(0)\n",
    "\n",
    "tester = UCBSocketTester( socket_order[:number_of_sockets], confidence_level = 3.0 )\n",
    "tester.run( number_of_steps )"
   ]
  },
  {
   "cell_type": "code",
   "execution_count": null,
   "metadata": {},
   "outputs": [],
   "source": [
    "# get the parameters to graph from the socket stats\n",
    "estimates = tester.socket_stats[:,:,0]\n",
    "trials = tester.socket_stats[:,:,1]\n",
    "uncertainty = tester.socket_stats[:,:,2]\n",
    "\n",
    "# the label locations\n",
    "# - start the examination after all sockets have been tried once\n",
    "x = np.arange(len(estimates[:,0]))[2:]  \n",
    "width = 0.35  # the width of the bars\n",
    "\n",
    "fig, ax = plt.subplots(figsize=(20, 10))\n",
    "\n",
    "rects1 = [ plt.bar(x, uncertainty[2:,0]+estimates[2:,0], align='edge', width= -width, label='Socket 1 - Uncertainty'),\n",
    "           plt.bar(x, estimates[2:,0], align='edge', width= -width, label='Socket 1 - Q', hatch='//')]\n",
    "\n",
    "rects2 = [ plt.bar(x, uncertainty[2:,1]+estimates[2:,1], align='edge',width= width, label='Socket 2 - Uncertainty'),\n",
    "           plt.bar(x, estimates[2:,1], align='edge',width= width, label='Socket 2 - Q', hatch='//')]\n",
    "\n",
    "# Add some text for labels, title and custom x-axis tick labels, etc.\n",
    "ax.set_ylabel('UCB Value')\n",
    "ax.set_xlabel('Time Steps')\n",
    "ax.set_title('UCB Exploration-Exploitation', fontsize=24, fontweight='bold')\n",
    "ax.legend(fontsize=24)\n",
    "ax.set_xticks(x)\n",
    "\n",
    "\n",
    "def autolabel(rects,index,trials):\n",
    "    \"\"\"Attach a text label above each bar in *rects*, displaying its number of trials\"\"\"\n",
    "\n",
    "    for i,rect in enumerate(rects[0]):\n",
    "        height = rect.get_height()\n",
    "        ax.annotate('{:.0f}'.format(trials[i+2,index]),\n",
    "                    xy=(rect.get_x() + rect.get_width() / 2, height),\n",
    "                    xytext=(0, 3),  # 3 points vertical offset\n",
    "                    textcoords=\"offset points\",\n",
    "                    size=16,\n",
    "                    ha='center', va='bottom')  \n",
    "\n",
    "\n",
    "autolabel(rects1,0,trials)\n",
    "autolabel(rects2,1,trials)\n",
    "\n",
    "fig.tight_layout()\n",
    "\n",
    "plt.savefig('ucb_exploration_exploitation.png')\n",
    "plt.show()"
   ]
  },
  {
   "cell_type": "markdown",
   "metadata": {},
   "source": [
    "So the points to note from the graph are as follows:\n",
    "\n",
    "* The socket uncertainty value is set to infinity if a socket has not yet been tried, causing an initial priming round to be performed, in which each action is tried once to get its initial value. This then avoids divide-by-zero errors in the exploration term when actions have not yet been tried and Nₜ(a) is equal to zero. Obviously this is only applicable when there are fewer possible actions 'k' than there are time steps 't', otherwise there wouldn't be enough time to try every action.\n",
    "\n",
    "\n",
    "* Due to the priming round the graph begins at time step 2. The number of times that each socket has been selected is shown by the number at the top of each bar. So, at time step 2, it can be seen that each socket has been selected once. Since each socket has been tried the same number of times the contribution of the uncertainty term is the same for each socket. However, due to its larger reward estimate 'Q', socket 1 has the largest total UCB value and is therefore selected by the argmax function.\n",
    "\n",
    "\n",
    "* At time step 3, socket 1 was the selected socket at the previous time step, so the count of the number of times it has been tried increases to 2. As a result the uncertainty term for this socket shrinks, so the solid blue bar can be seen to decrease in size. The hatched yellow bar also decreases due to this socket having been sampled and forming a better estimate for the true socket reward.\n",
    "On the other hand, socket 2 wasn't selected, so its reward estimate stays the same. The number of times it has been selected also stays the same, while the number of time steps increases, consequently the size of its uncertainty term increases, so the solid green bar can be seen to get bigger.\n",
    "However, the overall size of the UCB term for socket 1 is still greater than that of socket 2, so once again it is the socket that gets selected.\n",
    "\n",
    "\n",
    "* Eventually, at time step 5, socket 2's uncertainty term has increased sufficiently to make its total UCB value greater than that of socket 1 and so it is the socket that gets chosen. Once this happens its estimated reward value moves closer to the true mean reward, its uncertainty term shrinks and the whole process begins again."
   ]
  },
  {
   "cell_type": "code",
   "execution_count": null,
   "metadata": {},
   "outputs": [],
   "source": [
    "def plot_ucb_socket_percentages( confidence_values, socket_percentages, number_of_steps ):\n",
    "\n",
    "    df = pd.DataFrame(socket_percentages)\n",
    "    for socket in range(df.shape[1]):\n",
    "        plt.plot(confidence_values, df[socket]*100, label = f'{socket+1}', marker='o', linestyle='--')           \n",
    "\n",
    "    plt.plot(confidence_values, np.ones(df.shape[0])*20,'k')\n",
    "\n",
    "    plt.legend(title = 'Sockets')\n",
    "    plt.title('Socket Selection Percentage vs Confidence Level', fontsize=15)\n",
    "    plt.xlabel('Confidence Level')\n",
    "    plt.ylabel('Socket Selection (%)')\n",
    "     \n",
    "def plot_ucb_final_socket_estimates( confidence_values, final_socket_estimates, number_of_steps ):    \n",
    "    df = pd.DataFrame(final_socket_estimates)\n",
    "    for socket in range(df.shape[1]):\n",
    "        plt.plot(confidence_values, df[socket], label = f'{socket+1}', marker='o', linestyle='--')           \n",
    "\n",
    "    plt.legend(title = 'Sockets')\n",
    "    plt.title('Final Socket Estimate vs Confidence Level', fontsize=15)\n",
    "    plt.xlabel('Confidence Level')\n",
    "    plt.ylabel('Final Socket Estimate')    \n",
    "    \n",
    "def plot_ucb_reward_per_timestep( confidence_values, reward_per_timestep, number_of_steps, figsize=(10,8) ):\n",
    "    \n",
    "    plt.plot( confidence_values, reward_per_timestep, marker='o', linestyle='--', color='r') \n",
    "    plt.title('Mean Total Reward per Time Step vs Confidence Level', fontsize=15)\n",
    "    plt.xlabel('Confidence Level')\n",
    "    plt.ylabel('Mean Total Reward per Time Step')  \n",
    "    \n",
    "    \n",
    "def plot_ucb(confidence_values, reward_per_timestep, optimal_selected, socket_percentages, final_socket_estimates, number_of_steps ):\n",
    "    fig = plt.figure(figsize=(26,5))\n",
    "\n",
    "    plt.suptitle(f'Upper Confidence Bound: {number_of_steps} time-steps per run', fontsize=20, fontweight='bold')\n",
    "\n",
    "    plt.subplot(1, 3, 1)\n",
    "    plot_ucb_socket_percentages( confidence_values, socket_percentages, number_of_steps )\n",
    "\n",
    "    plt.subplot(1, 3, 2)\n",
    "    plot_ucb_reward_per_timestep( confidence_values, reward_per_timestep, number_of_steps )\n",
    "\n",
    "    plt.subplot(1, 3, 3)\n",
    "    plot_ucb_final_socket_estimates( confidence_values, final_socket_estimates, number_of_steps )\n",
    "\n",
    "    plt.savefig(f\"ucb_{number_of_steps}.png\")\n",
    "\n",
    "    plt.show()   "
   ]
  },
  {
   "cell_type": "code",
   "execution_count": null,
   "metadata": {},
   "outputs": [],
   "source": [
    "def ucb_experiment( number_of_tests, number_of_steps, confidence_level = 3.0):    \n",
    "    \n",
    "    experiment = SocketExperiment(socket_tester   = UCBSocketTester( confidence_level = confidence_level ),\n",
    "                                  number_of_tests = number_of_tests,\n",
    "                                  number_of_steps = number_of_steps)\n",
    "    experiment.run()\n",
    "    \n",
    "    return experiment.get_estimates(),\\\n",
    "           experiment.get_mean_total_reward(),\\\n",
    "           experiment.get_optimal_selected(),\\\n",
    "           experiment.get_socket_percentages()"
   ]
  },
  {
   "cell_type": "code",
   "execution_count": null,
   "metadata": {},
   "outputs": [],
   "source": [
    "def run_ucb_experiment( start, end, step = 0.01, number_of_tests = 100, number_of_steps = 300 ):     \n",
    "\n",
    "    test_values = []\n",
    "    reward_per_timestep = []\n",
    "    optimal_selected = []\n",
    "    socket_percentages = []\n",
    "    final_socket_estimates = []\n",
    "        \n",
    "    # iterate over the confidence level values\n",
    "    for confidence_level in tqdm( np.arange( start, (end+step), step ) ):\n",
    "        \n",
    "        # save the test value used to run this test\n",
    "        test_values.append( confidence_level )               \n",
    "        \n",
    "        mean_estimates, mean_reward_per_timestep, mean_optimal_selected, mean_socket_percentage = ucb_experiment( number_of_tests, number_of_steps, confidence_level )                           \n",
    "                \n",
    "        reward_per_timestep.append( mean_reward_per_timestep )\n",
    "        optimal_selected.append( mean_optimal_selected )\n",
    "        socket_percentages.append( mean_socket_percentage ) \n",
    "        final_socket_estimates.append( mean_estimates[-1] )\n",
    "     \n",
    "    return test_values, reward_per_timestep, optimal_selected, socket_percentages, final_socket_estimates          "
   ]
  },
  {
   "cell_type": "code",
   "execution_count": null,
   "metadata": {},
   "outputs": [],
   "source": [
    "# how many times each test should be run\n",
    "number_of_tests = 500\n",
    "\n",
    "# the confidence level test range\n",
    "start = 0\n",
    "stop = 100.0\n",
    "step = 5\n",
    "\n",
    "number_of_steps = 100\n",
    "confidence_values, reward_per_timestep, optimal_selected, socket_percentages, final_socket_estimates = \\\n",
    "    run_ucb_experiment( start, stop, step, number_of_tests, number_of_steps )  "
   ]
  },
  {
   "cell_type": "code",
   "execution_count": null,
   "metadata": {},
   "outputs": [],
   "source": [
    "plot_ucb(confidence_values, \n",
    "         reward_per_timestep, \n",
    "         optimal_selected, \n",
    "         socket_percentages, \n",
    "         final_socket_estimates, \n",
    "         number_of_steps )"
   ]
  },
  {
   "cell_type": "code",
   "execution_count": null,
   "metadata": {},
   "outputs": [],
   "source": [
    "# how many times each test should be run\n",
    "number_of_tests = 1000\n",
    "\n",
    "# the confidence level test range\n",
    "start = 0.\n",
    "stop = 2.0\n",
    "step = 0.1\n",
    "\n",
    "number_of_steps = 50\n",
    "confidence_values, reward_per_timestep, optimal_selected, socket_percentages, final_socket_estimates = \\\n",
    "    run_ucb_experiment( start, stop, step, number_of_tests, number_of_steps )  "
   ]
  },
  {
   "cell_type": "code",
   "execution_count": null,
   "metadata": {},
   "outputs": [],
   "source": [
    "plt.xticks(np.arange(0., 2.2, 0.2))\n",
    "plt.plot( confidence_values, reward_per_timestep, marker='o', linestyle='--', color='r') \n",
    "plt.title('Mean Total Reward per Time Step vs Confidence Level', fontsize=15)\n",
    "plt.xlabel('Confidence Level')\n",
    "plt.ylabel('Mean Total Reward per Time Step') \n",
    "plt.savefig(f\"ucb_reward_per_timestep{number_of_steps}.png\")"
   ]
  },
  {
   "cell_type": "code",
   "execution_count": null,
   "metadata": {},
   "outputs": [],
   "source": [
    "# create and test UCB sockets\n",
    "tester = UCBSocketTester( confidence_level = 0.6)\n",
    "tester.run( number_of_steps = 1000 )\n",
    "\n",
    "print(f'Mean Reward per Time Step = {tester.get_mean_reward()}')\n",
    "print(f'Optimal Socket Selected = {tester.get_optimal_socket_percentage()}')\n",
    "print(f'Socket Percentages = {tester.get_socket_percentages()}')"
   ]
  },
  {
   "cell_type": "code",
   "execution_count": null,
   "metadata": {},
   "outputs": [],
   "source": [
    "# run the test 100 times with each test running for 1000 timesteps\n",
    "number_of_tests = 1000\n",
    "number_of_steps = 1000    \n",
    "\n",
    "experiment = SocketExperiment(socket_tester   = UCBSocketTester( confidence_level = 0.6 ),\n",
    "                              number_of_tests = number_of_tests,\n",
    "                              number_of_steps = number_of_steps)\n",
    "experiment.run()"
   ]
  },
  {
   "cell_type": "code",
   "execution_count": null,
   "metadata": {},
   "outputs": [],
   "source": [
    "number_of_trials = experiment.get_number_of_trials()\n",
    "\n",
    "plt.figure(figsize=(10,8))\n",
    "for socket in range(number_of_trials.shape[1]):\n",
    "    plt.plot(number_of_trials[:30,socket], label = f'{socket+1}')  \n",
    "    \n",
    "plt.title('UCB Number of Trials vs Time', fontsize=20, fontweight='bold')\n",
    "plt.legend(title = 'Sockets')\n",
    "plt.xlabel('Time Steps')\n",
    "plt.ylabel('Number of Trials')\n",
    "\n",
    "plt.savefig(\"UCB_number_of_trials.png\")    "
   ]
  },
  {
   "cell_type": "markdown",
   "metadata": {},
   "source": [
    "## Regret"
   ]
  },
  {
   "cell_type": "code",
   "execution_count": null,
   "metadata": {},
   "outputs": [],
   "source": [
    "# best socket has a true mean reward of 12\n",
    "cummulative_optimal_reward = [r*12 for r in range(1,number_of_steps+1)]\n",
    "\n",
    "# regret is the difference between the optimal reward and the actual reward \n",
    "regret = cummulative_optimal_reward - experiment.get_cumulative_reward_per_timestep()\n",
    "\n",
    "\n",
    "fig = plt.figure(figsize=(20,6))\n",
    "plt.suptitle(f'Upper Confidence Bound (UCB) Regret', fontsize=20, fontweight='bold')\n",
    "\n",
    "plt.subplot(1, 2, 1)\n",
    "plt.plot(experiment.get_cumulative_reward_per_timestep(),label = \"Actual\")\n",
    "plt.plot(cummulative_optimal_reward, label =\"Optimal\")\n",
    "plt.plot(regret, label =\"Regret\")\n",
    "plt.legend()\n",
    "plt.title('Cumulative Reward vs Time', fontsize=15)\n",
    "plt.xlabel('Time Steps')\n",
    "plt.ylabel('Total Reward')\n",
    "\n",
    "plt.subplot(1, 2, 2)\n",
    "plt.title('Regret vs Time', fontsize=15)\n",
    "plt.plot(regret)\n",
    "plt.xlabel('Time Steps')\n",
    "plt.ylabel('Regret')\n",
    "\n",
    "plt.savefig(f\"ucb_regret.png\")\n",
    "plt.show()  "
   ]
  },
  {
   "cell_type": "code",
   "execution_count": null,
   "metadata": {},
   "outputs": [],
   "source": []
  }
 ],
 "metadata": {
  "kernelspec": {
   "display_name": "Python 3",
   "language": "python",
   "name": "python3"
  },
  "language_info": {
   "codemirror_mode": {
    "name": "ipython",
    "version": 3
   },
   "file_extension": ".py",
   "mimetype": "text/x-python",
   "name": "python",
   "nbconvert_exporter": "python",
   "pygments_lexer": "ipython3",
   "version": "3.7.1"
  }
 },
 "nbformat": 4,
 "nbformat_minor": 2
}
