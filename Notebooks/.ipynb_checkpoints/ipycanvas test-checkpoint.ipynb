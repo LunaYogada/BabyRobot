{
 "cells": [
  {
   "cell_type": "markdown",
   "metadata": {},
   "source": [
    "from:\n",
    "https://github.com/martinRenou/ipycanvas"
   ]
  },
  {
   "cell_type": "code",
   "execution_count": 84,
   "metadata": {},
   "outputs": [],
   "source": [
    "!pip install -U ipycanvas -q"
   ]
  },
  {
   "cell_type": "code",
   "execution_count": 85,
   "metadata": {},
   "outputs": [],
   "source": [
    "import numpy as np\n",
    "\n",
    "from ipycanvas import MultiCanvas\n",
    "from ipywidgets import Image\n",
    "from ipywidgets import Layout\n",
    "from time import sleep, time\n",
    "from ipycanvas import Canvas, hold_canvas\n",
    "import random\n",
    "\n",
    "from ipywidgets import Play, IntProgress, HBox, VBox, link\n",
    "from ipycanvas import Canvas, hold_canvas"
   ]
  },
  {
   "cell_type": "code",
   "execution_count": 86,
   "metadata": {},
   "outputs": [],
   "source": [
    "sprites = Image.from_file('../Images/BabyRobot64_Sprites.png')\n",
    "canvas = Canvas(width=132, height=328, sync_image_data=True)   \n",
    "\n",
    "def save_to_file(*args, **kwargs):\n",
    "    canvas.to_file('Images/my_test_file.png')\n",
    "\n",
    "# Listen to changes on the ``image_data`` trait and call ``save_to_file`` when it changes.\n",
    "canvas.observe(save_to_file, 'image_data')\n",
    "\n",
    "canvas.draw_image( sprites, 0, 0 )"
   ]
  },
  {
   "cell_type": "code",
   "execution_count": 87,
   "metadata": {},
   "outputs": [
    {
     "data": {
      "application/vnd.jupyter.widget-view+json": {
       "model_id": "45c697f8a2414a8693e43d345b64bae6",
       "version_major": 2,
       "version_minor": 0
      },
      "text/plain": [
       "Canvas(height=328, sync_image_data=True, width=132)"
      ]
     },
     "metadata": {},
     "output_type": "display_data"
    }
   ],
   "source": [
    "canvas"
   ]
  },
  {
   "cell_type": "code",
   "execution_count": 89,
   "metadata": {},
   "outputs": [
    {
     "data": {
      "application/vnd.jupyter.widget-view+json": {
       "model_id": "24d26349edd242ec8fed90af5662899c",
       "version_major": 2,
       "version_minor": 0
      },
      "text/plain": [
       "Canvas(height=64, width=64)"
      ]
     },
     "metadata": {},
     "output_type": "display_data"
    }
   ],
   "source": [
    "image_data = canvas.get_image_data(x=0, y=0, width=64, height=64)\n",
    "\n",
    "canvas2 = Canvas(width=64, height=64)   \n",
    "canvas2.put_image_data( image_data, 0, 0 )\n",
    "canvas2"
   ]
  },
  {
   "cell_type": "code",
   "execution_count": 90,
   "metadata": {},
   "outputs": [
    {
     "data": {
      "application/vnd.jupyter.widget-view+json": {
       "model_id": "92e51edb70c84d4ebf4ba694b9619206",
       "version_major": 2,
       "version_minor": 0
      },
      "text/plain": [
       "Canvas(height=64, width=64)"
      ]
     },
     "metadata": {},
     "output_type": "display_data"
    }
   ],
   "source": [
    "image_data = canvas.get_image_data(x=64, y=0, width=64, height=64)\n",
    "canvas3 = Canvas(width=64, height=64)   \n",
    "canvas3.put_image_data( image_data, 0, 0 )\n",
    "canvas3"
   ]
  },
  {
   "cell_type": "code",
   "execution_count": 91,
   "metadata": {},
   "outputs": [],
   "source": [
    "m = MultiCanvas(n_canvases=3, width=256, height=256, sync_image_data=True)"
   ]
  },
  {
   "cell_type": "code",
   "execution_count": 92,
   "metadata": {},
   "outputs": [],
   "source": [
    "def draw_square(canvas, pos, width, color):\n",
    "    canvas.fill_style = color\n",
    "    canvas.fill_rect(pos, pos, width, width)"
   ]
  },
  {
   "cell_type": "code",
   "execution_count": 93,
   "metadata": {},
   "outputs": [],
   "source": [
    "# draw the base of the grid\n",
    "draw_square(m[0], 0, 256, 'orange')"
   ]
  },
  {
   "cell_type": "code",
   "execution_count": 94,
   "metadata": {},
   "outputs": [],
   "source": [
    "# draw the grid onto the canvas\n",
    "with hold_canvas(m[1]):\n",
    "    for y in range(4):   \n",
    "        for x in range(4):   \n",
    "            m[1].stroke_rect(64 * x, 64 * y, 64, 64)"
   ]
  },
  {
   "cell_type": "code",
   "execution_count": 145,
   "metadata": {},
   "outputs": [],
   "source": [
    "import pdb\n",
    "\n",
    "from enum import Enum\n",
    "\n",
    "class Direction(Enum):\n",
    "    North = 1\n",
    "    East = 2\n",
    "    South = 3\n",
    "    West = 4\n",
    "    \n",
    "    # get the enum name without the class\n",
    "    def __str__(self): return self.name\n",
    "\n",
    "\n",
    "class RobotPosition():\n",
    "    \n",
    "    sprite_count = 0\n",
    "    move_count = 0   \n",
    "    canvas_sprites = []\n",
    "\n",
    "    \n",
    "    def __init__(self, canvas, size = 256, initial_sprite = 4):\n",
    "        \n",
    "        self.canvas = canvas\n",
    "                        \n",
    "        self.x = 0\n",
    "        self.y = 0     \n",
    "        self.step = 4\n",
    "        self.size = size\n",
    "        self.robot_size = 64\n",
    "        self.sprite_index = initial_sprite\n",
    "        self.sprite = Image.from_file('../Images/BabyRobot64_GL.png')        \n",
    "        \n",
    "        self.canvas1 = Canvas(width=self.robot_size, height=self.robot_size)\n",
    "        self.canvas2 = Canvas(width=self.robot_size, height=self.robot_size)        \n",
    "        self.load_sprites() \n",
    "        \n",
    "    def get_number_of_sprites(self):\n",
    "        return len(self.canvas_sprites)\n",
    "        \n",
    "    def get_array(self,*args, **kwargs):                \n",
    "        \n",
    "        index = 0\n",
    "        for row in range(5):\n",
    "            for col in range(2):                                 \n",
    "                x = col * (self.robot_size + 1)                    \n",
    "                y = row * (self.robot_size + 1)\n",
    "        \n",
    "                # put the first sprite onto a canvas\n",
    "                image_data = self.sprite_canvas.get_image_data( x, y, self.robot_size)\n",
    "\n",
    "                canvas = Canvas(width=self.robot_size, height=self.robot_size)\n",
    "                canvas.put_image_data( image_data, 0, 0 )  \n",
    "\n",
    "                self.canvas_sprites.append( canvas )\n",
    "        \n",
    "        self.canvas.clear()\n",
    "        self.draw()         \n",
    "        \n",
    "    def load_sprites(self):                    \n",
    "        sprites = Image.from_file('../Images/BabyRobot64_Sprites.png')\n",
    "        self.sprite_canvas = Canvas(width=132, height=328, sync_image_data=True)   \n",
    "        self.sprite_canvas.draw_image( sprites, 0, 0 )                 \n",
    "        self.sprite_canvas.observe(self.get_array, 'image_data')      \n",
    "        \n",
    "    def draw_sprite(self,index):        \n",
    "        with hold_canvas(self.canvas):\n",
    "            self.canvas.clear_rect(self.x, self.y, self.robot_size)                        \n",
    "            self.canvas.draw_image(self.canvas_sprites[index], self.x, self.y )         \n",
    "        \n",
    "    def draw(self):        \n",
    "#         with hold_canvas(self.canvas):\n",
    "#             self.canvas.clear_rect(self.x, self.y, self.robot_size)                        \n",
    "#             self.canvas.draw_image(self.canvas_sprites[self.sprint_index], self.x, self.y )  \n",
    "        self.draw_sprite(self.sprite_index)\n",
    "            \n",
    "        sleep(0.10)  \n",
    "        self.sprite_count += 1\n",
    "        if self.sprite_count > 8: \n",
    "            self.sprite_count = 0   \n",
    "            self.sprint_index = random.randint(0,len(self.canvas_sprites)-1)\n",
    "            \n",
    "    def move(self,direction):        \n",
    "        move_method_name = f\"move_{direction}\"\n",
    "        getattr(self,move_method_name)()\n",
    "        self.move_count += 1\n",
    "        \n",
    "    def move_East(self):\n",
    "        for x in range(64//self.step):\n",
    "            if self.x < (self.size - self.robot_size):\n",
    "                self.x += self.step\n",
    "                self.draw()  \n",
    "            \n",
    "    def move_West(self):\n",
    "        for x in range(64//self.step):            \n",
    "            if self.x > 0: \n",
    "                self.x -= self.step            \n",
    "                self.draw()             \n",
    "            \n",
    "    def move_North(self):\n",
    "        for y in range(64//self.step):\n",
    "            if self.y > 0:           \n",
    "                self.y -= self.step\n",
    "                self.draw() \n",
    "            \n",
    "    def move_South(self):\n",
    "        for y in range(64//self.step):\n",
    "            if self.y < (self.size - self.robot_size):\n",
    "                self.y += self.step\n",
    "                self.draw()             \n",
    "        "
   ]
  },
  {
   "cell_type": "code",
   "execution_count": 146,
   "metadata": {},
   "outputs": [
    {
     "data": {
      "application/vnd.jupyter.widget-view+json": {
       "model_id": "e6a6a6e0022743329d5084958f57753b",
       "version_major": 2,
       "version_minor": 0
      },
      "text/plain": [
       "MultiCanvas(height=256, image_data=b'\\x89PNG\\r\\n\\x1a\\n\\x00\\x00\\x00\\rIHDR\\x00\\x00\\x01\\x00\\x00\\x00\\x01\\x00\\x08\\x…"
      ]
     },
     "metadata": {},
     "output_type": "display_data"
    }
   ],
   "source": [
    "m"
   ]
  },
  {
   "cell_type": "code",
   "execution_count": 148,
   "metadata": {},
   "outputs": [],
   "source": [
    "robot_position = RobotPosition(m[2])"
   ]
  },
  {
   "cell_type": "code",
   "execution_count": 151,
   "metadata": {},
   "outputs": [],
   "source": [
    "for i in range(robot_position.get_number_of_sprites()): \n",
    "    robot_position.draw_sprite( i ) \n",
    "    sleep(0.50)  "
   ]
  },
  {
   "cell_type": "code",
   "execution_count": 133,
   "metadata": {},
   "outputs": [],
   "source": [
    "for i in range(10): \n",
    "    robot_position.move( random.choice(list(Direction)))  "
   ]
  },
  {
   "cell_type": "code",
   "execution_count": 121,
   "metadata": {},
   "outputs": [],
   "source": [
    "def save_to_file(*args, **kwargs):    \n",
    "    global robot_position\n",
    "    m.to_file(f'Images/test_{robot_position.move_count}.png')   \n",
    "        \n",
    "m.observe(save_to_file, 'image_data')                         "
   ]
  },
  {
   "cell_type": "code",
   "execution_count": 196,
   "metadata": {},
   "outputs": [
    {
     "name": "stdout",
     "output_type": "stream",
     "text": [
      "Loading sprites\n"
     ]
    },
    {
     "data": {
      "application/vnd.jupyter.widget-view+json": {
       "model_id": "e847a74432254d12b8d2dd9a5933b97f",
       "version_major": 2,
       "version_minor": 0
      },
      "text/plain": [
       "VBox(children=(MultiCanvas(height=256, image_data=b'\\x89PNG\\r\\n\\x1a\\n\\x00\\x00\\x00\\rIHDR\\x00\\x00\\x01\\x00\\x00\\x0…"
      ]
     },
     "metadata": {},
     "output_type": "display_data"
    }
   ],
   "source": [
    "play = Play(interval=500, min=1, max=20, step=1)\n",
    "progress = IntProgress(min=1, max=20, step=1)\n",
    "\n",
    "link((play, 'value'), (progress, 'value'))\n",
    "robot_position = RobotPosition(m[2])\n",
    "\n",
    "def on_update(*args):   \n",
    "    with hold_canvas(m):\n",
    "        robot_position.move( random.choice(list(Direction)))  \n",
    "\n",
    "play.observe(on_update, 'value')\n",
    "\n",
    "layout = Layout(width='256px', height='256px')\n",
    "VBox((m, HBox((play, progress))),layout=layout)"
   ]
  },
  {
   "cell_type": "code",
   "execution_count": null,
   "metadata": {},
   "outputs": [],
   "source": [
    "sprite1 = Image.from_file('../Images/BabyRobot64_GL.png')\n",
    "\n",
    "def move_one_square( canvas ):\n",
    "    for x in range(0,64,4):\n",
    "        with hold_canvas(canvas):\n",
    "            canvas.clear()\n",
    "            canvas.draw_image(sprite1, x, 64)   \n",
    "        sleep(0.10)"
   ]
  },
  {
   "cell_type": "code",
   "execution_count": null,
   "metadata": {},
   "outputs": [],
   "source": [
    "m[2].clear()\n",
    "move_one_square(m[2]) "
   ]
  },
  {
   "cell_type": "code",
   "execution_count": null,
   "metadata": {},
   "outputs": [],
   "source": [
    "def save_to_file(*args, **kwargs):\n",
    "    print(args)\n",
    "    m.to_file(f\"Images/my_file_.png\")         "
   ]
  },
  {
   "cell_type": "code",
   "execution_count": null,
   "metadata": {},
   "outputs": [],
   "source": [
    "# canvas = Canvas(width=200, height=200, sync_image_data=True)\n",
    "\n",
    "# Perform some drawings...\n",
    "\n",
    "m.sync_image_data = True\n",
    "m.to_file('Images/my_file.png')\n",
    "m.sync_image_data = False"
   ]
  },
  {
   "cell_type": "code",
   "execution_count": null,
   "metadata": {},
   "outputs": [],
   "source": [
    "from PIL import Image as PILImage\n",
    "import numpy as np\n",
    "\n",
    "sprite3 = np.array(PILImage.open('../Images/smoke_texture0.png'))"
   ]
  },
  {
   "cell_type": "code",
   "execution_count": null,
   "metadata": {},
   "outputs": [],
   "source": [
    "m[2].put_image_data(sprite3, 50, 150)"
   ]
  },
  {
   "cell_type": "code",
   "execution_count": null,
   "metadata": {},
   "outputs": [],
   "source": []
  }
 ],
 "metadata": {
  "kernelspec": {
   "display_name": "Python 3",
   "language": "python",
   "name": "python3"
  },
  "language_info": {
   "codemirror_mode": {
    "name": "ipython",
    "version": 3
   },
   "file_extension": ".py",
   "mimetype": "text/x-python",
   "name": "python",
   "nbconvert_exporter": "python",
   "pygments_lexer": "ipython3",
   "version": "3.7.1"
  }
 },
 "nbformat": 4,
 "nbformat_minor": 2
}
