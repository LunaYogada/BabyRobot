{
 "cells": [
  {
   "cell_type": "code",
   "execution_count": 1,
   "metadata": {},
   "outputs": [],
   "source": [
    "import cv2\n",
    "import numpy as np\n",
    "import os\n",
    "from os.path import isfile, join"
   ]
  },
  {
   "cell_type": "code",
   "execution_count": 3,
   "metadata": {},
   "outputs": [],
   "source": [
    "pathIn= './Images/'\n",
    "pathOut = 'video.avi'\n",
    "\n",
    "fps = 0.5\n",
    "\n",
    "# get and sort the image files\n",
    "files = [f for f in os.listdir(pathIn) if isfile(join(pathIn, f))]\n",
    "files.sort(key = lambda x: x[5:-4])\n",
    "files.sort()\n",
    "\n",
    "frame_array = []\n",
    "for i in range(len(files)):\n",
    "    filename=pathIn + files[i]\n",
    "    #reading each files\n",
    "    img = cv2.imread(filename)\n",
    "    height, width, layers = img.shape\n",
    "    size = (width,height)\n",
    "    \n",
    "    #inserting the frames into an image array\n",
    "    frame_array.append(img)\n",
    "    \n",
    "out = cv2.VideoWriter(pathOut,cv2.VideoWriter_fourcc(*'DIVX'), fps, size)\n",
    "for i in range(len(frame_array)):\n",
    "    # writing to a image array\n",
    "    out.write(frame_array[i])\n",
    "out.release()"
   ]
  },
  {
   "cell_type": "code",
   "execution_count": 4,
   "metadata": {},
   "outputs": [
    {
     "name": "stdout",
     "output_type": "stream",
     "text": [
      "converting\n",
      "\tvideo.avi\n",
      "to\n",
      "\tvideo.gif\n",
      "frame 8\n",
      "Finalizing...\n",
      "Done.\n"
     ]
    }
   ],
   "source": [
    "import imageio\n",
    "import sys\n",
    "\n",
    "class TargetFormat(object):\n",
    "    GIF = \".gif\"\n",
    "    MP4 = \".mp4\"\n",
    "    AVI = \".avi\"\n",
    "\n",
    "def convertFile(inputpath, targetFormat):\n",
    "    \"\"\"Reference: http://imageio.readthedocs.io/en/latest/examples.html#convert-a-movie\"\"\"\n",
    "    outputpath = os.path.splitext(inputpath)[0] + targetFormat\n",
    "    print(\"converting\\r\\n\\t{0}\\r\\nto\\r\\n\\t{1}\".format(inputpath, outputpath))\n",
    "\n",
    "    reader = imageio.get_reader(inputpath)\n",
    "    fps = reader.get_meta_data()['fps']\n",
    "\n",
    "    writer = imageio.get_writer(outputpath, fps=fps)\n",
    "    for i,im in enumerate(reader):\n",
    "        sys.stdout.write(\"\\rframe {0}\".format(i))\n",
    "        sys.stdout.flush()\n",
    "        writer.append_data(im)\n",
    "    print(\"\\r\\nFinalizing...\")\n",
    "    writer.close()\n",
    "    print(\"Done.\")\n",
    "\n",
    "convertFile(\"video.avi\", TargetFormat.GIF)"
   ]
  },
  {
   "cell_type": "code",
   "execution_count": null,
   "metadata": {},
   "outputs": [],
   "source": []
  }
 ],
 "metadata": {
  "kernelspec": {
   "display_name": "Python 3",
   "language": "python",
   "name": "python3"
  },
  "language_info": {
   "codemirror_mode": {
    "name": "ipython",
    "version": 3
   },
   "file_extension": ".py",
   "mimetype": "text/x-python",
   "name": "python",
   "nbconvert_exporter": "python",
   "pygments_lexer": "ipython3",
   "version": "3.7.1"
  }
 },
 "nbformat": 4,
 "nbformat_minor": 2
}
