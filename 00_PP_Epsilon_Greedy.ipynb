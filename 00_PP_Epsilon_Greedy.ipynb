{
 "cells": [
  {
   "cell_type": "markdown",
   "metadata": {},
   "source": [
    "## Power Problem"
   ]
  },
  {
   "cell_type": "markdown",
   "metadata": {},
   "source": [
    "### Epsilon Greedy"
   ]
  },
  {
   "cell_type": "code",
   "execution_count": 1,
   "metadata": {},
   "outputs": [],
   "source": [
    "#export\n",
    "import random\n",
    "import numpy as np\n",
    "import matplotlib.pyplot as plt"
   ]
  },
  {
   "cell_type": "code",
   "execution_count": 2,
   "metadata": {},
   "outputs": [],
   "source": [
    "#export\n",
    "class PowerSocket:\n",
    "    def __init__(self, q):                \n",
    "        self.q = q   # the true reward value                \n",
    "        self.Q = 0   # the estimate of this socket's reward value                \n",
    "        self.n = 0   # the number of times this socket has been tried\n",
    "    \n",
    "    # the reward is a random distribution around the initial mean value set for this socket\n",
    "    def charge(self):\n",
    "        # a guassian distribution with unit variance around the true value 'q'\n",
    "        return np.random.randn() + self.q\n",
    "    \n",
    "    # increase the number of times this socket has been used and improve the estimate of the \n",
    "    # value (the mean) by combining the new reward 'r' with the current mean\n",
    "    def update(self,R):\n",
    "        self.n += 1\n",
    "        # the new estimate is calculated from the old estimate\n",
    "        self.Q = (1 - 1.0/self.n) * self.Q + (1.0/self.n) * R"
   ]
  },
  {
   "cell_type": "code",
   "execution_count": 3,
   "metadata": {},
   "outputs": [],
   "source": [
    "num_sockets = 5\n",
    "\n",
    "def socket_test(total_steps,eps):\n",
    "    \n",
    "    # create the specified number of sockets with unique random mean values from 1 to the number of sockets\n",
    "    sockets = [PowerSocket(q) for q in random.sample(range(1,1+num_sockets), num_sockets)]\n",
    "\n",
    "    # save data about the run to create graphs\n",
    "    rewards = np.empty(total_steps)\n",
    "\n",
    "    # loop for the chosen number of time-steps\n",
    "    for t in range(total_steps):\n",
    "\n",
    "        # probability of pulling a bandit at random\n",
    "        p = np.random.random()\n",
    "\n",
    "        # if the probability is less than epsilon then a random socket is chosen from the complete set\n",
    "        if p < eps:\n",
    "            index = np.random.choice(num_sockets)\n",
    "        else:\n",
    "            # choose the socket with the current highest mean reward\n",
    "            index = np.argmax([socket.Q for socket in sockets])\n",
    "\n",
    "        # charge from the chosen socket and update its estimated reward value\n",
    "        reward = sockets[index].charge()\n",
    "        sockets[index].update(reward)\n",
    "\n",
    "        # store the reward from this time-step\n",
    "        rewards[t] = reward\n",
    "\n",
    "    return rewards    "
   ]
  },
  {
   "cell_type": "code",
   "execution_count": 4,
   "metadata": {},
   "outputs": [
    {
     "data": {
      "image/png": "[encoded data removed]",
      "text/plain": [
       "<Figure size 432x288 with 1 Axes>"
      ]
     },
     "metadata": {
      "needs_background": "light"
     },
     "output_type": "display_data"
    }
   ],
   "source": [
    "total_steps = 100\n",
    "\n",
    "rewards = socket_test(total_steps,0.1)\n",
    "cumulative_average = np.cumsum(rewards) / (np.arange(total_steps)+1) \n",
    "\n",
    "\n",
    "# plot total reward\n",
    "plt.plot(np.cumsum(rewards))\n",
    "plt.xscale('log')\n",
    "plt.show()"
   ]
  },
  {
   "cell_type": "code",
   "execution_count": 5,
   "metadata": {},
   "outputs": [
    {
     "data": {
      "image/png": "[encoded data removed]",
      "text/plain": [
       "<Figure size 432x288 with 1 Axes>"
      ]
     },
     "metadata": {
      "needs_background": "light"
     },
     "output_type": "display_data"
    }
   ],
   "source": [
    "total_steps = 10000\n",
    "\n",
    "rewards = socket_test(total_steps,0.1)\n",
    "cumulative_average = np.cumsum(rewards) / (np.arange(total_steps)+1) \n",
    "\n",
    "# plot moving average\n",
    "plt.plot(cumulative_average)\n",
    "plt.xscale('log')\n",
    "plt.show()\n",
    "\n",
    "# for b in bandits:\n",
    "#     print( b.mean )\n",
    "\n",
    "# print(f'final cumulative reward = {cumulative_average[N-1]}')"
   ]
  },
  {
   "cell_type": "code",
   "execution_count": null,
   "metadata": {},
   "outputs": [],
   "source": []
  }
 ],
 "metadata": {
  "kernelspec": {
   "display_name": "Python 3",
   "language": "python",
   "name": "python3"
  },
  "language_info": {
   "codemirror_mode": {
    "name": "ipython",
    "version": 3
   },
   "file_extension": ".py",
   "mimetype": "text/x-python",
   "name": "python",
   "nbconvert_exporter": "python",
   "pygments_lexer": "ipython3",
   "version": "3.7.1"
  }
 },
 "nbformat": 4,
 "nbformat_minor": 4
}
